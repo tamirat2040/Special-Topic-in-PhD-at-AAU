{
  "cells": [
    {
      "cell_type": "markdown",
      "metadata": {
        "id": "a43dd2a2-2f19-4bf8-9945-b2f45f6ccbd0"
      },
      "source": [
        "## 1) Import the necessary modules"
      ],
      "id": "a43dd2a2-2f19-4bf8-9945-b2f45f6ccbd0"
    },
    {
      "cell_type": "code",
      "execution_count": null,
      "metadata": {
        "colab": {
          "base_uri": "https://localhost:8080/"
        },
        "id": "NCpKS_mdEbUb",
        "outputId": "e99958bb-8185-490f-d564-fd751ff742ff"
      },
      "outputs": [
        {
          "output_type": "stream",
          "name": "stdout",
          "text": [
            "Collecting pyspark\n",
            "  Downloading pyspark-3.5.0.tar.gz (316.9 MB)\n",
            "\u001b[2K     \u001b[90m━━━━━━━━━━━━━━━━━━━━━━━━━━━━━━━━━━━━━━━━\u001b[0m \u001b[32m316.9/316.9 MB\u001b[0m \u001b[31m3.2 MB/s\u001b[0m eta \u001b[36m0:00:00\u001b[0m\n",
            "\u001b[?25h  Preparing metadata (setup.py) ... \u001b[?25l\u001b[?25hdone\n",
            "Requirement already satisfied: py4j==0.10.9.7 in /usr/local/lib/python3.10/dist-packages (from pyspark) (0.10.9.7)\n",
            "Building wheels for collected packages: pyspark\n",
            "  Building wheel for pyspark (setup.py) ... \u001b[?25l\u001b[?25hdone\n",
            "  Created wheel for pyspark: filename=pyspark-3.5.0-py2.py3-none-any.whl size=317425345 sha256=add36b4f8278fff2d7a5b8cdcc9eaac43e63b0bc950832c3f9fdee9b488c6174\n",
            "  Stored in directory: /root/.cache/pip/wheels/41/4e/10/c2cf2467f71c678cfc8a6b9ac9241e5e44a01940da8fbb17fc\n",
            "Successfully built pyspark\n",
            "Installing collected packages: pyspark\n",
            "Successfully installed pyspark-3.5.0\n"
          ]
        }
      ],
      "source": [
        "pip install pyspark"
      ],
      "id": "NCpKS_mdEbUb"
    },
    {
      "cell_type": "code",
      "execution_count": null,
      "metadata": {
        "id": "3657de0c-67ee-4559-aba6-de9ac2971c94"
      },
      "outputs": [],
      "source": [
        "# import the necessary pyspark context and session\n",
        "import pyspark.sql.context as sqlContext\n",
        "from pyspark import SparkContext\n",
        "from pyspark.sql import SparkSession\n",
        "spark = SparkSession.builder.appName(\"Big_data project\").config(\n",
        "    \"climate\", \"precip_temp\").getOrCreate()\n",
        "sc = SparkContext.getOrCreate()"
      ],
      "id": "3657de0c-67ee-4559-aba6-de9ac2971c94"
    },
    {
      "cell_type": "code",
      "execution_count": null,
      "metadata": {
        "colab": {
          "base_uri": "https://localhost:8080/",
          "height": 35
        },
        "id": "05bd570f-a4b5-47e8-8424-63e900d02c1c",
        "outputId": "d1cfa72e-bec6-4324-d71a-2878237dcb0b"
      },
      "outputs": [
        {
          "output_type": "execute_result",
          "data": {
            "text/plain": [
              "'3.5.0'"
            ],
            "application/vnd.google.colaboratory.intrinsic+json": {
              "type": "string"
            }
          },
          "metadata": {},
          "execution_count": 3
        }
      ],
      "source": [
        "spark.version"
      ],
      "id": "05bd570f-a4b5-47e8-8424-63e900d02c1c"
    },
    {
      "cell_type": "code",
      "execution_count": null,
      "metadata": {
        "id": "2ca88f36-1fd8-458b-9d38-ade3b5576e8f"
      },
      "outputs": [],
      "source": [
        "# Import functions and types\n",
        "from pyspark.sql.functions import *\n",
        "from pyspark.sql.types import *  # A pyspark module for data type and casting"
      ],
      "id": "2ca88f36-1fd8-458b-9d38-ade3b5576e8f"
    },
    {
      "cell_type": "markdown",
      "metadata": {
        "id": "f0b3ba61-a409-4ee6-aba0-03ccf7f2960e"
      },
      "source": [
        "## 2) Access and process the precipitation and temperature data"
      ],
      "id": "f0b3ba61-a409-4ee6-aba0-03ccf7f2960e"
    },
    {
      "cell_type": "markdown",
      "metadata": {
        "id": "940c736d-149c-4e16-9b3b-aa7226238379"
      },
      "source": [
        "There are two ways with which we access the data. One, getting access directly from the website, or two, dowloading the data into a local PC directory. For precipitation data, I directly requested it from the website because it is stored per station. But for temperature data, I could not directly work from its website as is takes hours to access that data. I wrote the codes for each of them checked that the second method (downloading) is faster than direct access, particularly when we are dealing with many staions. Therefore, accessing big data through request takes long time than working with an already downloaded data. The location I am interested in (Ethiopia) has 1200+ stations. So, As far as the downloaded file size is not greater that the available computer space on a local drive, I downloaded using the following function. For this project, I used this downloaded data. If the readers of this code are interested to download, they can run the code below and wait an hour or two. Anyways I have provided code snippets for both cases as follows."
      ],
      "id": "940c736d-149c-4e16-9b3b-aa7226238379"
    },
    {
      "cell_type": "markdown",
      "metadata": {
        "id": "9568656d-d107-4d93-943f-0d1dcd54f5b0"
      },
      "source": [
        "### 2.1) Access and prepare the monthly PRECIPITATION data from the website"
      ],
      "id": "9568656d-d107-4d93-943f-0d1dcd54f5b0"
    },
    {
      "cell_type": "code",
      "execution_count": null,
      "metadata": {
        "id": "67aac4d2-b039-47d9-b34d-775c59672d5f"
      },
      "outputs": [],
      "source": [
        "# Access the main data source and convert it to a single string\n",
        "import requests\n",
        "\n",
        "# Location for monthly data of the entire globe\n",
        "url_prcp = 'https://www.ncei.noaa.gov/data/ghcnm/v4beta/access/'\n",
        "\n",
        "# this converts the entire content of the web into a string\n",
        "prcp_data = requests.get(url_prcp).text"
      ],
      "id": "67aac4d2-b039-47d9-b34d-775c59672d5f"
    },
    {
      "cell_type": "markdown",
      "metadata": {
        "id": "801b942a-eae1-4eaf-8192-bc49b5258b6f"
      },
      "source": [
        "Once the url is converted to text, then we can use any sort of text fuctions, methods, and attributes such as contactenations. That is very important when quiering the url in order to take data of a specific location of interest, let's say Ethiopia. To do so, first we have to study the text by printing it as follows."
      ],
      "id": "801b942a-eae1-4eaf-8192-bc49b5258b6f"
    },
    {
      "cell_type": "code",
      "execution_count": null,
      "metadata": {
        "colab": {
          "base_uri": "https://localhost:8080/"
        },
        "id": "c48caf7a-f5d9-401e-a2bd-bf1c62c0532d",
        "outputId": "5c490e29-372b-48b0-a54d-b2a584b2e9db"
      },
      "outputs": [
        {
          "output_type": "stream",
          "name": "stdout",
          "text": [
            "<!DOCTYPE HTML PUBLIC \"-//W3C//DTD HTML 3.2 Final//EN\">\n",
            "<html>\n",
            " <head>\n",
            "  <title>Index of /data/ghcnm/v4beta/access</title>\n",
            " </head>\n",
            " <body>\n",
            "<h1>Index of /data/ghcnm/v4beta/access</h1>\n",
            "  <table>\n",
            "   <tr><th><a href=\"?C=N;O=D\">Name</a></th><th><a href=\"?C=M;O=A\">Last modified</a></th><th><a href=\"?C=S;O=A\">Size</a></th><th><a href=\"?C=D;O=A\">Description</a></th></tr>\n",
            "   <tr><th colspan=\"4\"><hr></th></tr>\n",
            "<tr><td><a href=\"/data/ghcnm/v4beta/\">Parent Directory</a></td><td>&nbsp;</td><td align=\"right\">  - </td><td>&nbsp;</td></tr>\n",
            "<tr><td><a href=\"ACW00011604.csv\">ACW00011604.csv</a></td><td align=\"right\">2024-02-04 16:23  </td><td align=\"right\">770 </td><td>&nbsp;</td></tr>\n",
            "<tr><td><a href=\"ACW00011647.csv\">ACW00011647.csv</a></td><td align=\"right\">2024-02-04 16:22  </td><td align=\"right\"> 34K</td><td>&nbsp;</td></tr>\n",
            "<tr><td><a href=\"ACXLP312520.csv\">ACXLP312520.csv</a></td><td align=\"right\">2024-02-04 16:26  </td><td align=\"right\"> 14K</td><td>&nbsp;</td></tr>\n",
            "<tr><td><a href=\"ACXLP31252"
          ]
        }
      ],
      "source": [
        "# Have a look at the first 1000 character stings,\n",
        "# observe where the stations data starts (e.g. <tr><td><a href=)\n",
        "\n",
        "# Precipitation\n",
        "n = 0\n",
        "for p in prcp_data:\n",
        "    n += 1\n",
        "    if n < 1000:  # I put this limit to prevent crashing of the note book.\n",
        "        print(p, end = '')\n",
        "    else:\n",
        "        pass\n",
        "\n",
        "# Temperature\n",
        "# Unimportant to print"
      ],
      "id": "c48caf7a-f5d9-401e-a2bd-bf1c62c0532d"
    },
    {
      "cell_type": "markdown",
      "metadata": {
        "id": "26f4f986-13dc-4b6e-9ce6-72d91b5e49c0"
      },
      "source": [
        "Now, when we study the above print, we can see there is a repetition of a pattern (look at the final four lines). After studying the metadata in the website, we noticed that the first 2 characters after href=\" represent a country. For example 'ET' for Ethiopia, 'US' for United States and so ... on. That means we can use those two characters to extract data of our interest country. To do so, manuvering over the entire text is not a smart move. Instead, we can covert the text into a python list were we can play a lot using list functions and methods. So, the following snippet converts every line of the above text into a list element and make one big list."
      ],
      "id": "26f4f986-13dc-4b6e-9ce6-72d91b5e49c0"
    },
    {
      "cell_type": "code",
      "execution_count": null,
      "metadata": {
        "colab": {
          "base_uri": "https://localhost:8080/"
        },
        "id": "880de892-bc5f-4d8c-90e4-3bed2251150a",
        "outputId": "a9c1d51c-d3d5-49e4-8979-06d84bf0085d"
      },
      "outputs": [
        {
          "output_type": "stream",
          "name": "stdout",
          "text": [
            "The number of characters for precipitation is 18157162.\n"
          ]
        }
      ],
      "source": [
        "#  Count the total number of characters in the website,\n",
        "#just to visualize the volume of the text\n",
        "print(\"The number of characters for precipitation is {}.\".format(len(prcp_data)))"
      ],
      "id": "880de892-bc5f-4d8c-90e4-3bed2251150a"
    },
    {
      "cell_type": "markdown",
      "metadata": {
        "id": "74d3ffcf-d078-4354-b938-d252e31d2e24"
      },
      "source": [
        "#### 2.1.1) Create list of text links for precipitation"
      ],
      "id": "74d3ffcf-d078-4354-b938-d252e31d2e24"
    },
    {
      "cell_type": "markdown",
      "metadata": {
        "id": "b71b0ade-a24a-47c3-94a4-e8519140da43"
      },
      "source": [
        "As we can see from the output of the following cell, there are 18.544 million characters in this text, which is a big number, that is why we do not have to print all."
      ],
      "id": "b71b0ade-a24a-47c3-94a4-e8519140da43"
    },
    {
      "cell_type": "code",
      "execution_count": null,
      "metadata": {
        "colab": {
          "base_uri": "https://localhost:8080/"
        },
        "id": "7a53f117-54ee-46ad-a168-ed9fab0d713c",
        "outputId": "821aab07-56fd-4db5-e4e0-70378ed5c41a"
      },
      "outputs": [
        {
          "output_type": "stream",
          "name": "stdout",
          "text": [
            "123528\n"
          ]
        }
      ],
      "source": [
        "# Convert the string into a list for convinience\n",
        "stations_list_prcp = prcp_data.split(\"\\n\")\n",
        "print(len(stations_list_prcp))  # Note that there were 18+ million characters;\n",
        "#now changed into a list of a few words"
      ],
      "id": "7a53f117-54ee-46ad-a168-ed9fab0d713c"
    },
    {
      "cell_type": "code",
      "execution_count": null,
      "metadata": {
        "colab": {
          "base_uri": "https://localhost:8080/"
        },
        "id": "4f26c938-6d5a-4df6-a00b-7bfa84aa0b9d",
        "outputId": "b8f5b20c-799a-4e0f-b832-63df7fb83ca5"
      },
      "outputs": [
        {
          "output_type": "stream",
          "name": "stdout",
          "text": [
            "<!DOCTYPE HTML PUBLIC \"-//W3C//DTD HTML 3.2 Final//EN\">\n",
            "<html>\n",
            " <head>\n",
            "  <title>Index of /data/ghcnm/v4beta/access</title>\n",
            " </head>\n",
            " <body>\n",
            "<h1>Index of /data/ghcnm/v4beta/access</h1>\n",
            "  <table>\n",
            "   <tr><th><a href=\"?C=N;O=D\">Name</a></th><th><a href=\"?C=M;O=A\">Last modified</a></th><th><a href=\"?C=S;O=A\">Size</a></th><th><a href=\"?C=D;O=A\">Description</a></th></tr>\n",
            "   <tr><th colspan=\"4\"><hr></th></tr>\n",
            "<tr><td><a href=\"/data/ghcnm/v4beta/\">Parent Directory</a></td><td>&nbsp;</td><td align=\"right\">  - </td><td>&nbsp;</td></tr>\n",
            "<tr><td><a href=\"ACW00011604.csv\">ACW00011604.csv</a></td><td align=\"right\">2024-02-04 16:23  </td><td align=\"right\">770 </td><td>&nbsp;</td></tr>\n",
            "<tr><td><a href=\"ACW00011647.csv\">ACW00011647.csv</a></td><td align=\"right\">2024-02-04 16:22  </td><td align=\"right\"> 34K</td><td>&nbsp;</td></tr>\n",
            "<tr><td><a href=\"ACXLP312520.csv\">ACXLP312520.csv</a></td><td align=\"right\">2024-02-04 16:26  </td><td align=\"right\"> 14K</td><td>&nbsp;</td></tr>\n",
            "<tr><td><a href=\"ACXLP312522.csv\">ACXLP312522.csv</a></td><td align=\"right\">2024-02-04 16:26  </td><td align=\"right\"> 15K</td><td>&nbsp;</td></tr>\n",
            "<tr><td><a href=\"ACXLP312524.csv\">ACXLP312524.csv</a></td><td align=\"right\">2024-02-04 16:23  </td><td align=\"right\">118K</td><td>&nbsp;</td></tr>\n",
            "<tr><td><a href=\"ACXLP312526.csv\">ACXLP312526.csv</a></td><td align=\"right\">2024-02-04 16:26  </td><td align=\"right\"> 16K</td><td>&nbsp;</td></tr>\n",
            "<tr><td><a href=\"ACXLP312527.csv\">ACXLP312527.csv</a></td><td align=\"right\">2024-02-04 16:23  </td><td align=\"right\"> 35K</td><td>&nbsp;</td></tr>\n",
            "<tr><td><a href=\"ACXLP333639.csv\">ACXLP333639.csv</a></td><td align=\"right\">2024-02-04 16:26  </td><td align=\"right\">1.4K</td><td>&nbsp;</td></tr>\n"
          ]
        }
      ],
      "source": [
        "# print and see the first few elements of the list, just to visualize it\n",
        "\n",
        "# Precipitation\n",
        "n = 0\n",
        "for p in stations_list_prcp:\n",
        "    n += 1\n",
        "    if n < 20:  # making a big pring may crush the notebook in case of big list\n",
        "        print(p)\n"
      ],
      "id": "4f26c938-6d5a-4df6-a00b-7bfa84aa0b9d"
    },
    {
      "cell_type": "markdown",
      "metadata": {
        "id": "1401def5-35ea-413b-8dfa-0d2f0aab4a25"
      },
      "source": [
        "Now we can extract data only, for example, for Ethiopia. To do so, we have to create an other list for Ethiopia 'ET', which is located at the 12th, 13th, and 14th indices of each member of the above list. That is Ethiopia already. Moreover, readers may study the short comments I wrote infront of each line of code. Note also that the first 11 lines of list elements in the above print are not useful for us. They came from the html of the website."
      ],
      "id": "1401def5-35ea-413b-8dfa-0d2f0aab4a25"
    },
    {
      "cell_type": "markdown",
      "metadata": {
        "id": "52235e94-89e8-4044-8b74-b39a36cb822f"
      },
      "source": [
        "#### 2.1.2)  Extract the area of interest for this project (Ethiopia) by slicing the list"
      ],
      "id": "52235e94-89e8-4044-8b74-b39a36cb822f"
    },
    {
      "cell_type": "code",
      "execution_count": null,
      "metadata": {
        "colab": {
          "base_uri": "https://localhost:8080/"
        },
        "id": "c972e550-9450-4497-97f9-f6aab14ef0f1",
        "outputId": "f234bac3-cca3-4987-fc88-92eb8517eaaf"
      },
      "outputs": [
        {
          "output_type": "stream",
          "name": "stdout",
          "text": [
            "['ET000063330.csv', 'ET000063331.csv', 'ET000063332.csv']\n",
            "There are a total of 167 stations in Ethiopia.\n"
          ]
        }
      ],
      "source": [
        "# Precipitation\n",
        "et_prcp = []     # list for a country (e.g. 'Ethiopia')\n",
        "counter = 0\n",
        "# Valid list of daily records are found only after the 12th string in the list\n",
        "for station in stations_list_prcp[11:]:\n",
        "  # The 18th and 19th characters (e.g. 'ET' for Ethiopia) represent country\n",
        "    if station[17:19] == \"ET\":\n",
        "      # only 15 characters represent  the station (e.g. 'US1COAD0003.dly')\n",
        "        et_prcp.append(station[17:32])\n",
        "        counter += 1\n",
        "    else:\n",
        "        pass\n",
        "print(et_prcp[:3])  # just see the first three memberst of the list\n",
        "print(\"There are a total of {} stations in Ethiopia.\".format(counter))"
      ],
      "id": "c972e550-9450-4497-97f9-f6aab14ef0f1"
    },
    {
      "cell_type": "code",
      "execution_count": null,
      "metadata": {
        "colab": {
          "base_uri": "https://localhost:8080/"
        },
        "id": "fd359282-2379-4b3c-8e38-1ee57cb85c83",
        "outputId": "98015999-fc2a-49df-9070-930db5568f71"
      },
      "outputs": [
        {
          "output_type": "stream",
          "name": "stdout",
          "text": [
            "https://www.ncei.noaa.gov/data/ghcnm/v4beta/access/ET000063332.csv\n"
          ]
        }
      ],
      "source": [
        "# Precipitation\n",
        "url_list_prcp = []\n",
        "for station in et_prcp:\n",
        "    link = url_prcp + station\n",
        "    url_list_prcp.append(link)\n",
        "print(url_list_prcp[2])"
      ],
      "id": "fd359282-2379-4b3c-8e38-1ee57cb85c83"
    },
    {
      "cell_type": "markdown",
      "metadata": {
        "id": "5f31b934-32f3-4c34-a57f-2d9cce334a38"
      },
      "source": [
        " Create a list of complete urls for the selected country. Note that from now on, this is a list we will iterate over."
      ],
      "id": "5f31b934-32f3-4c34-a57f-2d9cce334a38"
    },
    {
      "cell_type": "code",
      "execution_count": null,
      "metadata": {
        "id": "2a0cb0f0-1103-4c32-993c-47fdd581e850"
      },
      "outputs": [],
      "source": [
        "# Precipitation\n",
        "# Create a list of requested data and store it.\n",
        "data_list_prcp = []\n",
        "for station in url_list_prcp:\n",
        "    data = requests.get(station).text\n",
        "    data_list_prcp.append(data)"
      ],
      "id": "2a0cb0f0-1103-4c32-993c-47fdd581e850"
    },
    {
      "cell_type": "markdown",
      "metadata": {
        "id": "5eb264bd-63be-4859-a9c3-d3c1ce7d3a05"
      },
      "source": [
        "### 2.2) Access monthly TEMPERATURE data, already downloaded and stored in local PC"
      ],
      "id": "5eb264bd-63be-4859-a9c3-d3c1ce7d3a05"
    },
    {
      "cell_type": "markdown",
      "metadata": {
        "id": "c5586ffd-7929-4c8f-a700-17206c5762d0"
      },
      "source": [
        "I am using an laready downloaded data from my PC. The reason for using locally downloaded data has been well explanined in the preveious text."
      ],
      "id": "c5586ffd-7929-4c8f-a700-17206c5762d0"
    },
    {
      "cell_type": "code",
      "execution_count": null,
      "metadata": {
        "colab": {
          "base_uri": "https://localhost:8080/"
        },
        "id": "qJXct_K9ZIRE",
        "outputId": "3be1a4d9-d754-4c77-d199-2e0c4a3d8906"
      },
      "outputs": [
        {
          "output_type": "stream",
          "name": "stdout",
          "text": [
            "Mounted at /content/drive\n"
          ]
        }
      ],
      "source": [
        "from google.colab import drive\n",
        "drive.mount('/content/drive')"
      ],
      "id": "qJXct_K9ZIRE"
    },
    {
      "cell_type": "code",
      "execution_count": null,
      "metadata": {
        "colab": {
          "base_uri": "https://localhost:8080/"
        },
        "id": "f18f9bb5-4f47-4a7c-8948-c5d2bfd37d84",
        "outputId": "fd83ae11-ef40-4349-9379-2f9de1797976"
      },
      "outputs": [
        {
          "output_type": "stream",
          "name": "stdout",
          "text": [
            "The  number of characters for temperature is 1453801.\n",
            "AE0000411961960TAVG 1952  I 1983  I 2130  I 2530  I 2820  I 3086  I 3330  I 3390  I 3127  I 2756  I 2403  I 1992  I\n",
            "\n"
          ]
        }
      ],
      "source": [
        "# Temperature data\n",
        "temp_text_file = \"/content/drive/MyDrive/IGSSA_AAU/Year_1/Big_Data/2024_02_01_ghcnm.tavg.v4.0.1.20240130.txt\"\n",
        "import os\n",
        "temp_data = open(temp_text_file, 'r')     # open\n",
        "temp_data2 = temp_data.readlines()        # read as a list\n",
        "print(\"The  number of characters for temperature is {}.\".format(len(temp_data2)))\n",
        "print(temp_data2[80])"
      ],
      "id": "f18f9bb5-4f47-4a7c-8948-c5d2bfd37d84"
    },
    {
      "cell_type": "markdown",
      "metadata": {
        "id": "a99d4759-bc62-49bd-b363-1fa6459e470b"
      },
      "source": [
        "This is a huge list containing 1.45 million elements, each with at least 14 columns of temperature data. Therefore, to save processing time, we have to extract our interest area before further analysis such as rdd and dataframes. So the following snippet extracts temperature data for Ethiopia."
      ],
      "id": "a99d4759-bc62-49bd-b363-1fa6459e470b"
    },
    {
      "cell_type": "code",
      "execution_count": null,
      "metadata": {
        "colab": {
          "base_uri": "https://localhost:8080/"
        },
        "id": "b2063dfc-1e24-4ada-a25a-a172c22cf259",
        "outputId": "d88ba328-5b4e-4919-a0fe-f6941101b406"
      },
      "outputs": [
        {
          "output_type": "stream",
          "name": "stdout",
          "text": [
            "ET0000633301965TAVG 1464  Q 1577  Q 1642  Q 1839  Q 2000  Q 1964  Q 1754  Q 1600  Q 1669  Q 1610  Q 1551  Q 1506  Q\n",
            "\n"
          ]
        }
      ],
      "source": [
        "e_temp = []\n",
        "for i in temp_data2:\n",
        "    country_code = i[:2]\n",
        "    if country_code == 'ET':\n",
        "        e_temp.append(i)\n",
        "    else:\n",
        "        pass\n",
        "print(e_temp[2])"
      ],
      "id": "b2063dfc-1e24-4ada-a25a-a172c22cf259"
    },
    {
      "cell_type": "markdown",
      "metadata": {
        "id": "d780ad27-d935-4c6f-b366-8769dad661e8"
      },
      "source": [
        "## 3) Create RDDs"
      ],
      "id": "d780ad27-d935-4c6f-b366-8769dad661e8"
    },
    {
      "cell_type": "markdown",
      "metadata": {
        "id": "9cb37ca5-e91f-443e-a499-67e42330f337"
      },
      "source": [
        "Now we have gotten a complete list of urls for out interest area (Ethiopia in this case). Therefore, we can create a list of RDD files from the data of each of the stations. To do that we carefully studied the metadata from this website https://www.ncei.noaa.gov/products/land-based-station/global-historical-climatology-network-monthly. From the metadata we noticed that the monthly PRECIPITAYTION data was recorded and put in 3 separate columns. And the temerature data was stored over 12 columins, each representing a month in the year. Therefore, we had to locate the indices for each and put them in the lambada function as follows."
      ],
      "id": "9cb37ca5-e91f-443e-a499-67e42330f337"
    },
    {
      "cell_type": "markdown",
      "metadata": {
        "id": "ea7f2900-2813-40d3-9b51-a09b2ee66d6d"
      },
      "source": [
        "### 3.1) Create RDDs for Precipitation"
      ],
      "id": "ea7f2900-2813-40d3-9b51-a09b2ee66d6d"
    },
    {
      "cell_type": "markdown",
      "metadata": {
        "id": "85dd6d6d-573c-4276-97d6-3df5e604856e"
      },
      "source": [
        "Parallelize the precipiation data that was accessed from the website and prepared aboove."
      ],
      "id": "85dd6d6d-573c-4276-97d6-3df5e604856e"
    },
    {
      "cell_type": "code",
      "execution_count": null,
      "metadata": {
        "id": "f5065ead-9b0b-4d91-a247-5a8ac1a974c3"
      },
      "outputs": [],
      "source": [
        "# Parallelize the precipitation data.\n",
        "rdd_list_prcp1 = []\n",
        "for data in data_list_prcp:\n",
        "    rdd = sc.parallelize(data.splitlines())\n",
        "    rdd_list_prcp1.append(rdd)"
      ],
      "id": "f5065ead-9b0b-4d91-a247-5a8ac1a974c3"
    },
    {
      "cell_type": "markdown",
      "metadata": {
        "id": "0a76f2fa-4d48-4832-8dbb-a5ad3c7b031f"
      },
      "source": [
        "Map the Precipitation data using the lambda function."
      ],
      "id": "0a76f2fa-4d48-4832-8dbb-a5ad3c7b031f"
    },
    {
      "cell_type": "code",
      "execution_count": null,
      "metadata": {
        "id": "8da74d35-5bb0-4612-b7b0-7c93ec25814c"
      },
      "outputs": [],
      "source": [
        "# Map it\n",
        "rdd_list_prcp2 =[]\n",
        "for rdd in rdd_list_prcp1:\n",
        "    rdd_2 = rdd.map(lambda x: (x[:11], x[12:52], float(x[53:62]), float(x[63:73]), float(x[74:82]), int(x[83:89]), float(x[90:96]), x[103:109]))\n",
        "    rdd_list_prcp2.append(rdd_2)"
      ],
      "id": "8da74d35-5bb0-4612-b7b0-7c93ec25814c"
    },
    {
      "cell_type": "markdown",
      "metadata": {
        "id": "b63a348e-f889-4adb-9788-d556953ab492"
      },
      "source": [
        "For full understanding of the below lambda fuction, the metadata can be accessed from this link https://www.ncei.noaa.gov/data/ghcnm/v4beta/doc/ghcn-m_v4_prcp_readme.txt"
      ],
      "id": "b63a348e-f889-4adb-9788-d556953ab492"
    },
    {
      "cell_type": "code",
      "execution_count": null,
      "metadata": {
        "colab": {
          "base_uri": "https://localhost:8080/"
        },
        "id": "758875ed-e4c6-47d1-a41e-b2a93338e7dc",
        "outputId": "a4f5d65c-0842-4eb2-e7ba-f597778e1bf5"
      },
      "outputs": [
        {
          "output_type": "execute_result",
          "data": {
            "text/plain": [
              "[('ET000063330',\n",
              "  '                                \"MEKELE\"',\n",
              "  13.3,\n",
              "  39.29,\n",
              "  2212.0,\n",
              "  193701,\n",
              "  30.0,\n",
              "  '102448'),\n",
              " ('ET000063330',\n",
              "  '                                \"MEKELE\"',\n",
              "  13.3,\n",
              "  39.29,\n",
              "  2212.0,\n",
              "  193702,\n",
              "  10.0,\n",
              "  '102448')]"
            ]
          },
          "metadata": {},
          "execution_count": 18
        }
      ],
      "source": [
        "# See Precipitation RDD\n",
        "rdd_list_prcp2[0].take(2)"
      ],
      "id": "758875ed-e4c6-47d1-a41e-b2a93338e7dc"
    },
    {
      "cell_type": "markdown",
      "metadata": {
        "id": "4312b67c-0ec7-4d9f-9087-72617bd77fa8"
      },
      "source": [
        "### 3.2) Create RDDs for Temperature"
      ],
      "id": "4312b67c-0ec7-4d9f-9087-72617bd77fa8"
    },
    {
      "cell_type": "markdown",
      "metadata": {
        "id": "10019d00-b24f-4578-accb-34f84a6658dd"
      },
      "source": [
        "Parallelize and map the temperature data that was already downloaded and prepared previously."
      ],
      "id": "10019d00-b24f-4578-accb-34f84a6658dd"
    },
    {
      "cell_type": "code",
      "execution_count": null,
      "metadata": {
        "id": "190a9e61-f518-48a6-a302-f44359f4c29c"
      },
      "outputs": [],
      "source": [
        "rdd_temp = sc.parallelize(e_temp)"
      ],
      "id": "190a9e61-f518-48a6-a302-f44359f4c29c"
    },
    {
      "cell_type": "code",
      "execution_count": null,
      "metadata": {
        "colab": {
          "base_uri": "https://localhost:8080/"
        },
        "id": "c5be7e9d-8c4d-4db1-9bfb-887aee40fdde",
        "outputId": "8bbbd1f4-9a87-4bb8-aa4a-29438315ee94"
      },
      "outputs": [
        {
          "output_type": "execute_result",
          "data": {
            "text/plain": [
              "['ET0000633301963TAVG-9999   -9999   -9999   -9999   -9999   -9999   -9999   -9999   -9999    1675  Q 1649  Q 1461  Q\\n',\n",
              " 'ET0000633301964TAVG 1608  Q 1707  Q 1809  Q 1829  Q 1974  Q 1965  Q 1585  Q 1595  Q-9999    1537  Q 1419  Q 1398  Q\\n',\n",
              " 'ET0000633301965TAVG 1464  Q 1577  Q 1642  Q 1839  Q 2000  Q 1964  Q 1754  Q 1600  Q 1669  Q 1610  Q 1551  Q 1506  Q\\n']"
            ]
          },
          "metadata": {},
          "execution_count": 20
        }
      ],
      "source": [
        "rdd_temp.take(3)"
      ],
      "id": "c5be7e9d-8c4d-4db1-9bfb-887aee40fdde"
    },
    {
      "cell_type": "markdown",
      "metadata": {
        "id": "e70d67cd-d771-4924-83bd-95f44515aa9d"
      },
      "source": [
        "Map the temperature rdd."
      ],
      "id": "e70d67cd-d771-4924-83bd-95f44515aa9d"
    },
    {
      "cell_type": "code",
      "execution_count": null,
      "metadata": {
        "id": "189eb4f7-ecc5-4389-be84-e273e3e0fd6d"
      },
      "outputs": [],
      "source": [
        "rdd_temp2 = rdd_temp.map(\n",
        "    lambda x: (x[:11], x[11:15], x[15:19], float(x[19:24]),\n",
        "               float(x[27:32]), float(x[35:40]), float(x[43:48]),\n",
        "               float(x[51:56]), float(x[59:64]), float(x[67:72]),\n",
        "               float(x[75:80]), float(x[83:88]), float(x[91:96]),\n",
        "               float(x[99:104]), float(x[107:112])))"
      ],
      "id": "189eb4f7-ecc5-4389-be84-e273e3e0fd6d"
    },
    {
      "cell_type": "markdown",
      "metadata": {
        "id": "aead0505-8f31-4558-8649-13b597bdb57b"
      },
      "source": [
        "Map the Temperature data using the lambda function. Metadata for this lambda classification is given here https://www.ncei.noaa.gov/data/global-historical-climatology-network-monthly/v4/doc/readme.txt"
      ],
      "id": "aead0505-8f31-4558-8649-13b597bdb57b"
    },
    {
      "cell_type": "code",
      "execution_count": null,
      "metadata": {
        "colab": {
          "base_uri": "https://localhost:8080/"
        },
        "id": "979da8d1-0b67-4e77-9511-228353ffb979",
        "outputId": "ead9d3ae-e997-421b-bca4-ab6a4dc3c56d"
      },
      "outputs": [
        {
          "output_type": "execute_result",
          "data": {
            "text/plain": [
              "[('ET000063330',\n",
              "  '1963',\n",
              "  'TAVG',\n",
              "  -9999.0,\n",
              "  -9999.0,\n",
              "  -9999.0,\n",
              "  -9999.0,\n",
              "  -9999.0,\n",
              "  -9999.0,\n",
              "  -9999.0,\n",
              "  -9999.0,\n",
              "  -9999.0,\n",
              "  1675.0,\n",
              "  1649.0,\n",
              "  1461.0),\n",
              " ('ET000063330',\n",
              "  '1964',\n",
              "  'TAVG',\n",
              "  1608.0,\n",
              "  1707.0,\n",
              "  1809.0,\n",
              "  1829.0,\n",
              "  1974.0,\n",
              "  1965.0,\n",
              "  1585.0,\n",
              "  1595.0,\n",
              "  -9999.0,\n",
              "  1537.0,\n",
              "  1419.0,\n",
              "  1398.0)]"
            ]
          },
          "metadata": {},
          "execution_count": 22
        }
      ],
      "source": [
        "rdd_temp2.take(2)"
      ],
      "id": "979da8d1-0b67-4e77-9511-228353ffb979"
    },
    {
      "cell_type": "markdown",
      "metadata": {
        "id": "707402b1-cddb-4ea0-9754-914defae4f3f"
      },
      "source": [
        "Count the number of rdd records for data from just one of the stations in the selected country, this activity is totally optional and commented out because counting is an expensive task in Pyspark."
      ],
      "id": "707402b1-cddb-4ea0-9754-914defae4f3f"
    },
    {
      "cell_type": "code",
      "execution_count": null,
      "metadata": {
        "id": "cb9cf967-febf-4cfe-a2dd-83dd88220705"
      },
      "outputs": [],
      "source": [
        "# rdd_list_2[10].count()"
      ],
      "id": "cb9cf967-febf-4cfe-a2dd-83dd88220705"
    },
    {
      "cell_type": "markdown",
      "metadata": {
        "id": "77b4d9a2-6bc1-471a-ab67-444572ce3113"
      },
      "source": [
        "## 4) Create dataframes"
      ],
      "id": "77b4d9a2-6bc1-471a-ab67-444572ce3113"
    },
    {
      "cell_type": "markdown",
      "metadata": {
        "id": "07803961-3698-4c30-901d-eb73df2f5863"
      },
      "source": [
        "Before we continue dataframe creation, it is worth to note that there are two ways to deal with our rdd. The first is to combine all the RDDs by using making From now on, we can create dataframe for all stations. To do that we must create schema for the dataframes. The schema decides the type of data (e.g integer, float, etc...) for each of the columns. I tried to combine all rdds before dataframe creation and it was not timeefficient. So I have decided to use for loop."
      ],
      "id": "07803961-3698-4c30-901d-eb73df2f5863"
    },
    {
      "cell_type": "markdown",
      "metadata": {
        "id": "71e7b83c-23df-4d04-a00a-aa4299ec88dc"
      },
      "source": [
        "### 4.1) Create dataframe for precipitation"
      ],
      "id": "71e7b83c-23df-4d04-a00a-aa4299ec88dc"
    },
    {
      "cell_type": "markdown",
      "metadata": {
        "id": "275b95a5-f7b0-4391-9e24-c1a1ddfbd036"
      },
      "source": [
        "Design the schema for the upcoming dataframe, Note that the data type comes from the metadata."
      ],
      "id": "275b95a5-f7b0-4391-9e24-c1a1ddfbd036"
    },
    {
      "cell_type": "code",
      "execution_count": null,
      "metadata": {
        "id": "faa71292-9f22-4254-af8f-e02dd6dc2f81"
      },
      "outputs": [],
      "source": [
        "# Precipitation schema\n",
        "schema_prcp = StructType([\n",
        "    StructField(\"station_id\", StringType(), True),\n",
        "    StructField(\"station_name\", StringType(), True),\n",
        "    StructField(\"lat\", FloatType(), True),\n",
        "    StructField(\"lon\", FloatType(), True),\n",
        "    StructField(\"elev_m\", FloatType(), True),\n",
        "    StructField(\"yyyymm\", StringType(), True),\n",
        "    StructField(\"prcp_10mm\", FloatType(), True),\n",
        "    StructField(\"index\", StringType(), True)])"
      ],
      "id": "faa71292-9f22-4254-af8f-e02dd6dc2f81"
    },
    {
      "cell_type": "code",
      "execution_count": null,
      "metadata": {
        "id": "bb2701c8-da1c-44a7-ad56-4f720fafdee8"
      },
      "outputs": [],
      "source": [
        "# Precipitation dataframe\n",
        "dfs_prcp = []\n",
        "for rdd in rdd_list_prcp2:\n",
        "    df = spark.createDataFrame(rdd, schema_prcp)\n",
        "    dfs_prcp.append(df)"
      ],
      "id": "bb2701c8-da1c-44a7-ad56-4f720fafdee8"
    },
    {
      "cell_type": "code",
      "execution_count": null,
      "metadata": {
        "colab": {
          "base_uri": "https://localhost:8080/"
        },
        "id": "44eeed37-586b-4575-bbfc-7135d93d40b2",
        "outputId": "55a4324a-2c5b-4874-e7d5-278ccacb6746"
      },
      "outputs": [
        {
          "output_type": "stream",
          "name": "stdout",
          "text": [
            "+-----------+--------------------+----+----+------+------+---------+------+\n",
            "| station_id|        station_name| lat| lon|elev_m|yyyymm|prcp_10mm| index|\n",
            "+-----------+--------------------+----+----+------+------+---------+------+\n",
            "|ETXLP334695|                 ...|14.3|36.6| 760.0|196809|    590.0|108540|\n",
            "|ETXLP334695|                 ...|14.3|36.6| 760.0|196810|    110.0|108540|\n",
            "|ETXLP334695|                 ...|14.3|36.6| 760.0|196811|      0.0|108540|\n",
            "+-----------+--------------------+----+----+------+------+---------+------+\n",
            "only showing top 3 rows\n",
            "\n"
          ]
        }
      ],
      "source": [
        "dfs_prcp[45].show(3)    # Just to see just one row from one of the dataframe"
      ],
      "id": "44eeed37-586b-4575-bbfc-7135d93d40b2"
    },
    {
      "cell_type": "markdown",
      "metadata": {
        "id": "2046fb5f-fd45-4d0a-bfcb-537f79b475e7"
      },
      "source": [
        "### 4.2) Create dataframe for temperature, and transporse it"
      ],
      "id": "2046fb5f-fd45-4d0a-bfcb-537f79b475e7"
    },
    {
      "cell_type": "code",
      "execution_count": null,
      "metadata": {
        "id": "dad5e1f7-e9a5-40f9-9d9f-58a03a9db2de"
      },
      "outputs": [],
      "source": [
        "# Temperature schema\n",
        "schema_temp = StructType([\n",
        "    StructField(\"station_id\", StringType(), True),\n",
        "    StructField(\"year\", StringType(), True),\n",
        "    StructField(\"avg_temp\", StringType(), True),\n",
        "    StructField(\"01\", FloatType(), True), StructField(\"02\", FloatType(), True),\n",
        "    StructField(\"03\", FloatType(), True), StructField(\"04\", FloatType(), True),\n",
        "    StructField(\"05\", FloatType(), True), StructField(\"06\", FloatType(), True),\n",
        "    StructField(\"07\", FloatType(), True), StructField(\"08\", FloatType(), True),\n",
        "    StructField(\"09\", FloatType(), True), StructField(\"10\", FloatType(), True),\n",
        "    StructField(\"11\", FloatType(), True), StructField(\"12\", FloatType(), True)\n",
        "])"
      ],
      "id": "dad5e1f7-e9a5-40f9-9d9f-58a03a9db2de"
    },
    {
      "cell_type": "code",
      "execution_count": null,
      "metadata": {
        "id": "4b6dba13-161a-49f4-8e17-38d1e2b9c6e9"
      },
      "outputs": [],
      "source": [
        "# Temperature dataframe\n",
        "df_temp = spark.createDataFrame(rdd_temp2, schema_temp)"
      ],
      "id": "4b6dba13-161a-49f4-8e17-38d1e2b9c6e9"
    },
    {
      "cell_type": "code",
      "execution_count": null,
      "metadata": {
        "colab": {
          "base_uri": "https://localhost:8080/"
        },
        "id": "ebd89196-1e87-4597-9a6c-049698149de5",
        "outputId": "3c1baab0-9003-430f-cca3-03a23da2707f"
      },
      "outputs": [
        {
          "output_type": "stream",
          "name": "stdout",
          "text": [
            "+-----------+----+--------+-------+-------+-------+-------+-------+-------+-------+-------+-------+------+------+-------+\n",
            "| station_id|year|avg_temp|     01|     02|     03|     04|     05|     06|     07|     08|     09|    10|    11|     12|\n",
            "+-----------+----+--------+-------+-------+-------+-------+-------+-------+-------+-------+-------+------+------+-------+\n",
            "|ET000063330|1963|    TAVG|-9999.0|-9999.0|-9999.0|-9999.0|-9999.0|-9999.0|-9999.0|-9999.0|-9999.0|1675.0|1649.0| 1461.0|\n",
            "|ET000063330|1964|    TAVG| 1608.0| 1707.0| 1809.0| 1829.0| 1974.0| 1965.0| 1585.0| 1595.0|-9999.0|1537.0|1419.0| 1398.0|\n",
            "|ET000063330|1965|    TAVG| 1464.0| 1577.0| 1642.0| 1839.0| 2000.0| 1964.0| 1754.0| 1600.0| 1669.0|1610.0|1551.0| 1506.0|\n",
            "|ET000063330|1966|    TAVG| 1538.0| 1649.0| 1777.0| 1868.0| 1967.0| 1989.0| 1738.0| 1645.0| 1687.0|1660.0|1505.0| 1401.0|\n",
            "|ET000063330|1967|    TAVG| 1401.0| 1612.0| 1749.0| 1823.0| 1883.0| 1903.0| 1611.0| 1528.0| 1669.0|1577.0|1520.0| 1420.0|\n",
            "|ET000063330|1968|    TAVG| 1447.0| 1520.0| 1701.0| 1761.0| 1933.0| 1863.0| 1605.0| 1626.0| 1757.0|1695.0|1520.0|-9999.0|\n",
            "|ET000063330|1969|    TAVG| 1544.0| 1581.0| 1674.0| 1869.0| 1921.0| 2033.0| 1704.0| 1636.0| 1680.0|1676.0|1542.0| 1406.0|\n",
            "|ET000063330|1970|    TAVG| 1558.0| 1685.0| 1764.0| 1882.0| 2032.0| 1989.0| 1713.0| 1603.0| 1621.0|1667.0|1409.0| 1331.0|\n",
            "+-----------+----+--------+-------+-------+-------+-------+-------+-------+-------+-------+-------+------+------+-------+\n",
            "only showing top 8 rows\n",
            "\n"
          ]
        }
      ],
      "source": [
        "df_temp.show(8)"
      ],
      "id": "ebd89196-1e87-4597-9a6c-049698149de5"
    },
    {
      "cell_type": "code",
      "execution_count": null,
      "metadata": {
        "colab": {
          "base_uri": "https://localhost:8080/"
        },
        "id": "0b0a891e-2611-4897-b83d-7b55bc9fe693",
        "outputId": "22543117-4259-4ce9-c1e6-b9a88f4942dc"
      },
      "outputs": [
        {
          "output_type": "execute_result",
          "data": {
            "text/plain": [
              "1123"
            ]
          },
          "metadata": {},
          "execution_count": 30
        }
      ],
      "source": [
        "df_temp.count()"
      ],
      "id": "0b0a891e-2611-4897-b83d-7b55bc9fe693"
    },
    {
      "cell_type": "markdown",
      "metadata": {
        "id": "5f35fb42-b26f-4ca0-bfe8-d3634c64c3b7"
      },
      "source": [
        "Transpose the data, that means insert the monthly data from the columons to rows for each year."
      ],
      "id": "5f35fb42-b26f-4ca0-bfe8-d3634c64c3b7"
    },
    {
      "cell_type": "code",
      "execution_count": null,
      "metadata": {
        "id": "48813507-9a35-4223-bc0f-7ac826bb0941"
      },
      "outputs": [],
      "source": [
        "months = ['01', '02', '03', '04', '05', '06', '07', '08', '09', '10', '11', '12']\n",
        "df_temp2 = df_temp.unpivot([\"station_id\", \"year\"], months, \"var\", \"val\")"
      ],
      "id": "48813507-9a35-4223-bc0f-7ac826bb0941"
    },
    {
      "cell_type": "code",
      "execution_count": null,
      "metadata": {
        "colab": {
          "base_uri": "https://localhost:8080/"
        },
        "id": "ed603966-2ec4-4871-b313-69d10130ae47",
        "outputId": "b6813eb9-d0b6-4a1d-bf74-13f0fef76638"
      },
      "outputs": [
        {
          "name": "stdout",
          "output_type": "stream",
          "text": [
            "+-----------+----+---+-------+\n",
            "| station_id|year|var|    val|\n",
            "+-----------+----+---+-------+\n",
            "|ET000063330|1963| 01|-9999.0|\n",
            "|ET000063330|1963| 02|-9999.0|\n",
            "|ET000063330|1963| 03|-9999.0|\n",
            "|ET000063330|1963| 04|-9999.0|\n",
            "|ET000063330|1963| 05|-9999.0|\n",
            "|ET000063330|1963| 06|-9999.0|\n",
            "|ET000063330|1963| 07|-9999.0|\n",
            "|ET000063330|1963| 08|-9999.0|\n",
            "+-----------+----+---+-------+\n",
            "only showing top 8 rows\n",
            "\n"
          ]
        }
      ],
      "source": [
        "df_temp2.show(8)"
      ],
      "id": "ed603966-2ec4-4871-b313-69d10130ae47"
    },
    {
      "cell_type": "code",
      "execution_count": null,
      "metadata": {
        "colab": {
          "base_uri": "https://localhost:8080/"
        },
        "id": "1a7cdc63-8700-414f-9f7b-980305f90fb7",
        "outputId": "20121e29-47aa-4e5c-ac0e-d9ebeb94b625"
      },
      "outputs": [
        {
          "output_type": "stream",
          "name": "stdout",
          "text": [
            "root\n",
            " |-- station_id: string (nullable = true)\n",
            " |-- year: string (nullable = true)\n",
            " |-- var: string (nullable = false)\n",
            " |-- val: float (nullable = true)\n",
            "\n"
          ]
        },
        {
          "output_type": "execute_result",
          "data": {
            "text/plain": [
              "13476"
            ]
          },
          "metadata": {},
          "execution_count": 32
        }
      ],
      "source": [
        "df_temp2.printSchema()\n",
        "df_temp2.count()"
      ],
      "id": "1a7cdc63-8700-414f-9f7b-980305f90fb7"
    },
    {
      "cell_type": "markdown",
      "metadata": {
        "id": "60e1366e-d93d-41f9-a97e-2e5a6bb742b1"
      },
      "source": [
        "### 4.3) Prepare date-time information"
      ],
      "id": "60e1366e-d93d-41f9-a97e-2e5a6bb742b1"
    },
    {
      "cell_type": "markdown",
      "metadata": {
        "id": "ea9a9e85-d5fb-4b49-9e3c-e7d920ba19e0"
      },
      "source": [
        "#### 4.3.1) Create date column for precipitation data"
      ],
      "id": "ea9a9e85-d5fb-4b49-9e3c-e7d920ba19e0"
    },
    {
      "cell_type": "markdown",
      "metadata": {
        "id": "e9001f7f-6566-44b2-8d6c-19a18c0a05bf"
      },
      "source": [
        "In the precipitation data, a six-digit number is given comibined in one column for yearMONTH as (yyyyMM). Therefore, we can direclty use this information to create date column as follows."
      ],
      "id": "e9001f7f-6566-44b2-8d6c-19a18c0a05bf"
    },
    {
      "cell_type": "code",
      "execution_count": null,
      "metadata": {
        "id": "ed785f33-3404-4312-91b9-9fafaa0bd7d5"
      },
      "outputs": [],
      "source": [
        "df_list2 = []\n",
        "for df in dfs_prcp:\n",
        "    df2 = df.withColumn(\"date\", last_day(to_date(col(\"yyyymm\").\n",
        "                                                 cast(\"string\"), \"yyyyMM\")))\n",
        "    df_list2.append(df2)"
      ],
      "id": "ed785f33-3404-4312-91b9-9fafaa0bd7d5"
    },
    {
      "cell_type": "code",
      "execution_count": null,
      "metadata": {
        "colab": {
          "base_uri": "https://localhost:8080/"
        },
        "id": "2qY--X4UyxN0",
        "outputId": "c4c03ede-6f8d-4baf-b469-ae38804e1ac5"
      },
      "outputs": [
        {
          "output_type": "stream",
          "name": "stdout",
          "text": [
            "+-----------+--------------------+-----+-----+------+------+---------+------+----------+\n",
            "| station_id|        station_name|  lat|  lon|elev_m|yyyymm|prcp_10mm| index|      date|\n",
            "+-----------+--------------------+-----+-----+------+------+---------+------+----------+\n",
            "|ET000063334|                 ...|10.27|37.82|2515.0|195301|      0.0|100356|1953-01-31|\n",
            "|ET000063334|                 ...|10.27|37.82|2515.0|195302|    670.0|100356|1953-02-28|\n",
            "|ET000063334|                 ...|10.27|37.82|2515.0|195303|     80.0|100356|1953-03-31|\n",
            "|ET000063334|                 ...|10.27|37.82|2515.0|195304|    800.0|100356|1953-04-30|\n",
            "|ET000063334|                 ...|10.27|37.82|2515.0|195305|    760.0|100356|1953-05-31|\n",
            "|ET000063334|                 ...|10.27|37.82|2515.0|195306|   1460.0|100356|1953-06-30|\n",
            "|ET000063334|                 ...|10.27|37.82|2515.0|195307|   2920.0|100356|1953-07-31|\n",
            "|ET000063334|                 ...|10.27|37.82|2515.0|195308|   3200.0|100356|1953-08-31|\n",
            "+-----------+--------------------+-----+-----+------+------+---------+------+----------+\n",
            "only showing top 8 rows\n",
            "\n"
          ]
        }
      ],
      "source": [
        "df_list2[4].show(8)"
      ],
      "id": "2qY--X4UyxN0"
    },
    {
      "cell_type": "markdown",
      "metadata": {
        "id": "43b7b745-b841-4298-b7ee-c8e8420e55cb"
      },
      "source": [
        "#### 4.3.2) Create date column for temperature data"
      ],
      "id": "43b7b745-b841-4298-b7ee-c8e8420e55cb"
    },
    {
      "cell_type": "markdown",
      "metadata": {
        "id": "0bc317dd-b96c-41f5-8b02-8e7fb177f3b1"
      },
      "source": [
        "In temperature data, the year and month are stored in two separate columns, therefore we had to first concatenate the two before creating date column as follows."
      ],
      "id": "0bc317dd-b96c-41f5-8b02-8e7fb177f3b1"
    },
    {
      "cell_type": "markdown",
      "metadata": {
        "id": "5b74030b-f69c-46de-857c-2f7a418da002"
      },
      "source": [
        "Concatenate year and month"
      ],
      "id": "5b74030b-f69c-46de-857c-2f7a418da002"
    },
    {
      "cell_type": "code",
      "execution_count": null,
      "metadata": {
        "id": "bed5fa67-01f8-4776-b4bb-019828c61ca9"
      },
      "outputs": [],
      "source": [
        "df_temp3 =  df_temp2.select(concat(df_temp2.year, df_temp2.var).\n",
        "                            alias(\"yyyymm\"), \"station_id\", \"val\")"
      ],
      "id": "bed5fa67-01f8-4776-b4bb-019828c61ca9"
    },
    {
      "cell_type": "markdown",
      "metadata": {
        "id": "b02232d9-9688-4fb5-a166-309c9c0c29de"
      },
      "source": [
        "Create date column"
      ],
      "id": "b02232d9-9688-4fb5-a166-309c9c0c29de"
    },
    {
      "cell_type": "code",
      "execution_count": null,
      "metadata": {
        "id": "c72830be-4cef-45cf-92b9-bcf700277cd2"
      },
      "outputs": [],
      "source": [
        "df_temp4 = df_temp3.withColumn(\n",
        "    \"date\", last_day(to_date(col(\"yyyymm\").cast(\"string\"), \"yyyyMM\")))"
      ],
      "id": "c72830be-4cef-45cf-92b9-bcf700277cd2"
    },
    {
      "cell_type": "markdown",
      "metadata": {
        "id": "bfb322ce-db74-414a-a69b-f59c639a0676"
      },
      "source": [
        "Give correct name to the average temperature data"
      ],
      "id": "bfb322ce-db74-414a-a69b-f59c639a0676"
    },
    {
      "cell_type": "code",
      "execution_count": null,
      "metadata": {
        "id": "8fbead04-d88e-4d1e-abc5-83382c64cac7"
      },
      "outputs": [],
      "source": [
        "df_temp5 = df_temp4.withColumn('TAVG', df_temp3['val'])"
      ],
      "id": "8fbead04-d88e-4d1e-abc5-83382c64cac7"
    },
    {
      "cell_type": "markdown",
      "metadata": {
        "id": "0d1d02e8-8372-4788-b11f-5024d423e6d3"
      },
      "source": [
        "Drop unecessary columns"
      ],
      "id": "0d1d02e8-8372-4788-b11f-5024d423e6d3"
    },
    {
      "cell_type": "code",
      "execution_count": null,
      "metadata": {
        "id": "45ed9a0a-d7b7-4d00-b6e1-97bf16e8419d"
      },
      "outputs": [],
      "source": [
        "df_temp6 = df_temp5.drop('yyyymm', 'val')"
      ],
      "id": "45ed9a0a-d7b7-4d00-b6e1-97bf16e8419d"
    },
    {
      "cell_type": "code",
      "execution_count": null,
      "metadata": {
        "colab": {
          "base_uri": "https://localhost:8080/"
        },
        "id": "10b5260c-6463-4bdb-bba0-ad82b1835ac0",
        "outputId": "e0b4743a-85cd-429e-d2df-3624f64b5c96"
      },
      "outputs": [
        {
          "output_type": "stream",
          "name": "stdout",
          "text": [
            "+-----------+----------+-------+\n",
            "| station_id|      date|   TAVG|\n",
            "+-----------+----------+-------+\n",
            "|ET000063330|1963-01-31|-9999.0|\n",
            "|ET000063330|1963-02-28|-9999.0|\n",
            "|ET000063330|1963-03-31|-9999.0|\n",
            "|ET000063330|1963-04-30|-9999.0|\n",
            "|ET000063330|1963-05-31|-9999.0|\n",
            "|ET000063330|1963-06-30|-9999.0|\n",
            "|ET000063330|1963-07-31|-9999.0|\n",
            "|ET000063330|1963-08-31|-9999.0|\n",
            "+-----------+----------+-------+\n",
            "only showing top 8 rows\n",
            "\n"
          ]
        }
      ],
      "source": [
        "df_temp6.show(8)"
      ],
      "id": "10b5260c-6463-4bdb-bba0-ad82b1835ac0"
    },
    {
      "cell_type": "markdown",
      "metadata": {
        "id": "30f7e107-278b-48c3-ac06-b95bfc833eea"
      },
      "source": [
        "## 5) Combine precipitation and temperature data into one dataframe"
      ],
      "id": "30f7e107-278b-48c3-ac06-b95bfc833eea"
    },
    {
      "cell_type": "markdown",
      "metadata": {
        "id": "89a29e3b-7944-48b5-b0f5-0d0853e9160a"
      },
      "source": [
        "Before further, process such as data cleaning and modeling, we need to put together both variables (precipitation and average temperature). To do so, we used join function with two conditions fullfilled: match station IDs AND match date. The 'date' in this sense is a year-month-last day combination."
      ],
      "id": "89a29e3b-7944-48b5-b0f5-0d0853e9160a"
    },
    {
      "cell_type": "code",
      "execution_count": null,
      "metadata": {
        "id": "5bd23329-a815-42de-bf39-c9f6afde65c8"
      },
      "outputs": [],
      "source": [
        "dfs = []\n",
        "for df in df_list2:\n",
        "    new_df = df.join(df_temp6, ['station_id', 'date']) \\\n",
        "    .select(df.station_id, df.station_name, df.date, df.lon,\n",
        "           df.lat, df.elev_m, df.prcp_10mm, df_temp6.TAVG)\n",
        "    dfs.append(new_df)"
      ],
      "id": "5bd23329-a815-42de-bf39-c9f6afde65c8"
    },
    {
      "cell_type": "code",
      "execution_count": null,
      "metadata": {
        "colab": {
          "base_uri": "https://localhost:8080/"
        },
        "id": "2684ce4c-f43b-4692-ac10-93db8766600a",
        "outputId": "55a65c43-b682-44ed-a039-dd79fcbe98a7"
      },
      "outputs": [
        {
          "output_type": "stream",
          "name": "stdout",
          "text": [
            "+-----------+--------------------+----------+------+----+------+---------+-------+\n",
            "| station_id|        station_name|      date|   lon| lat|elev_m|prcp_10mm|   TAVG|\n",
            "+-----------+--------------------+----------+------+----+------+---------+-------+\n",
            "|ET000063403|                 ...|1953-09-30|35.533|8.15|2002.0|   3342.0| 1666.0|\n",
            "|ET000063403|                 ...|1952-03-31| 35.53|8.15|2002.0|   1080.0|-9999.0|\n",
            "|ET000063403|                 ...|1989-10-31| 35.53|8.15|2002.0|   3938.0| 1765.0|\n",
            "|ET000063403|                 ...|1953-03-31|35.533|8.15|2002.0|    815.0| 1984.0|\n",
            "|ET000063403|                 ...|1954-06-30|35.533|8.15|2002.0|   2349.0| 1684.0|\n",
            "|ET000063403|                 ...|1965-03-31|35.533|8.15|2002.0|    964.0| 1942.0|\n",
            "|ET000063403|                 ...|1970-08-31|35.533|8.15|2002.0|   3141.0| 1601.0|\n",
            "|ET000063403|                 ...|1975-07-31|35.533|8.15|2002.0|   2945.0| 1584.0|\n",
            "+-----------+--------------------+----------+------+----+------+---------+-------+\n",
            "only showing top 8 rows\n",
            "\n"
          ]
        }
      ],
      "source": [
        "dfs[6].show(8)"
      ],
      "id": "2684ce4c-f43b-4692-ac10-93db8766600a"
    },
    {
      "cell_type": "markdown",
      "metadata": {
        "id": "TYhcA-ZKTkZX"
      },
      "source": [
        "Remove white spaces and quotation marks from the 'station_name' column"
      ],
      "id": "TYhcA-ZKTkZX"
    },
    {
      "cell_type": "code",
      "execution_count": null,
      "metadata": {
        "id": "I_iiWk_2R1WG"
      },
      "outputs": [],
      "source": [
        "dfs_1 = []\n",
        "for df in dfs:\n",
        "   df_1 = df.select(\"station_id\", \"date\", \"lon\", \"lat\",\n",
        "                    \"elev_m\", \"prcp_10mm\", \"TAVG\",\n",
        "                    ltrim(\"station_name\").alias('station_1'))#removes white spaces\n",
        "   df_11 = df_1.withColumn('station', regexp_replace('station_1', '\"', ''))\n",
        "   # removes the quotations\n",
        "   dfs_1.append(df_11)"
      ],
      "id": "I_iiWk_2R1WG"
    },
    {
      "cell_type": "code",
      "execution_count": null,
      "metadata": {
        "colab": {
          "base_uri": "https://localhost:8080/"
        },
        "id": "jX1s9hZFUG72",
        "outputId": "fc60eb65-8fbb-42f2-bfad-9978abaffd0c"
      },
      "outputs": [
        {
          "output_type": "stream",
          "name": "stdout",
          "text": [
            "+-----------+----------+------+----+------+---------+-------+---------+-------+\n",
            "| station_id|      date|   lon| lat|elev_m|prcp_10mm|   TAVG|station_1|station|\n",
            "+-----------+----------+------+----+------+---------+-------+---------+-------+\n",
            "|ET000063403|1953-09-30|35.533|8.15|2002.0|   3342.0| 1666.0|   \"GORE\"|   GORE|\n",
            "|ET000063403|1952-03-31| 35.53|8.15|2002.0|   1080.0|-9999.0|   \"GORE\"|   GORE|\n",
            "|ET000063403|1989-10-31| 35.53|8.15|2002.0|   3938.0| 1765.0|   \"GORE\"|   GORE|\n",
            "|ET000063403|1953-03-31|35.533|8.15|2002.0|    815.0| 1984.0|   \"GORE\"|   GORE|\n",
            "|ET000063403|1954-06-30|35.533|8.15|2002.0|   2349.0| 1684.0|   \"GORE\"|   GORE|\n",
            "|ET000063403|1965-03-31|35.533|8.15|2002.0|    964.0| 1942.0|   \"GORE\"|   GORE|\n",
            "|ET000063403|1970-08-31|35.533|8.15|2002.0|   3141.0| 1601.0|   \"GORE\"|   GORE|\n",
            "|ET000063403|1975-07-31|35.533|8.15|2002.0|   2945.0| 1584.0|   \"GORE\"|   GORE|\n",
            "+-----------+----------+------+----+------+---------+-------+---------+-------+\n",
            "only showing top 8 rows\n",
            "\n"
          ]
        }
      ],
      "source": [
        "dfs_1[6].show(8)"
      ],
      "id": "jX1s9hZFUG72"
    },
    {
      "cell_type": "markdown",
      "metadata": {
        "id": "FgzjRg6VeiPa"
      },
      "source": [
        "There is a varying longitude and latitude values for one station. So we need to make one and only one lat, lon. Let's do it as follows"
      ],
      "id": "FgzjRg6VeiPa"
    },
    {
      "cell_type": "markdown",
      "metadata": {
        "id": "I6wRAs2TfFMy"
      },
      "source": [
        "First draw only the station ids and the coordinates"
      ],
      "id": "I6wRAs2TfFMy"
    },
    {
      "cell_type": "code",
      "execution_count": null,
      "metadata": {
        "id": "wTMwVazdYI3x"
      },
      "outputs": [],
      "source": [
        "df_2 = []\n",
        "for df in dfs_1:\n",
        "    df2 = df.select('station_id','lon','lat')\n",
        "    df_2.append(df2)"
      ],
      "id": "wTMwVazdYI3x"
    },
    {
      "cell_type": "markdown",
      "metadata": {
        "id": "f0CmFKDLfM_B"
      },
      "source": [
        "Then make distinct values for each statation"
      ],
      "id": "f0CmFKDLfM_B"
    },
    {
      "cell_type": "code",
      "execution_count": null,
      "metadata": {
        "id": "mVkQDJ6LZErZ",
        "colab": {
          "base_uri": "https://localhost:8080/"
        },
        "outputId": "8157e72d-df17-4d16-e4ac-58ff709e1c00"
      },
      "outputs": [
        {
          "output_type": "stream",
          "name": "stdout",
          "text": [
            "[2, 7, 3, 3, 3, 4, 3, 2, 3, 3, 4, 3, 2, 2]\n"
          ]
        }
      ],
      "source": [
        "df_3 = []\n",
        "duplicate_counts = []\n",
        "for df in df_2:\n",
        "  df3 = df.distinct()\n",
        "  c = df3.count()\n",
        "  if c > 0:\n",
        "    duplicate_counts.append(c)\n",
        "    df_3.append(df3)\n",
        "print(duplicate_counts)"
      ],
      "id": "mVkQDJ6LZErZ"
    },
    {
      "cell_type": "markdown",
      "metadata": {
        "id": "Uko8NlwXgTgj"
      },
      "source": [
        "The number of counts for each station should have been exactly 1, which is not the case as can be observed from the above result. So let's do the aggregation as follows."
      ],
      "id": "Uko8NlwXgTgj"
    },
    {
      "cell_type": "code",
      "execution_count": null,
      "metadata": {
        "id": "PLb7y8Wncd_p"
      },
      "outputs": [],
      "source": [
        "df_4 = []\n",
        "for df in df_3:\n",
        "  df4 = df.groupBy(\"station_id\").agg(avg(\"lon\").alias(\"longitude\"),avg(\"lat\").alias(\"latitude\"))\n",
        "  df_4.append(df4)"
      ],
      "id": "PLb7y8Wncd_p"
    },
    {
      "cell_type": "markdown",
      "metadata": {
        "id": "JdE06-9iiBoe"
      },
      "source": [
        "Now let's see the outcome"
      ],
      "id": "JdE06-9iiBoe"
    },
    {
      "cell_type": "code",
      "execution_count": null,
      "metadata": {
        "colab": {
          "base_uri": "https://localhost:8080/"
        },
        "id": "InkhIDlmiAQB",
        "outputId": "99b01043-c2cb-4b18-d5dc-154068e505b0"
      },
      "outputs": [
        {
          "output_type": "stream",
          "name": "stdout",
          "text": [
            "[1, 1, 1, 1, 1, 1, 1, 1, 1, 1, 1, 1, 1, 1]\n"
          ]
        }
      ],
      "source": [
        "cnt = []\n",
        "for df in df_4:\n",
        "  c = df.count()\n",
        "  cnt.append(c)\n",
        "print(cnt)"
      ],
      "id": "InkhIDlmiAQB"
    },
    {
      "cell_type": "code",
      "execution_count": null,
      "metadata": {
        "id": "XcdZjblYdPUj"
      },
      "outputs": [],
      "source": [
        "unique_stations = df_4[0]\n",
        "for df in df_4[1:]:\n",
        "  unique_stations = unique_stations.union(df)"
      ],
      "id": "XcdZjblYdPUj"
    },
    {
      "cell_type": "code",
      "execution_count": null,
      "metadata": {
        "colab": {
          "base_uri": "https://localhost:8080/"
        },
        "id": "07uKm-ISmD0s",
        "outputId": "92d930b9-3d82-4869-a48f-a8e4573bd55a"
      },
      "outputs": [
        {
          "output_type": "stream",
          "name": "stdout",
          "text": [
            "+-----------+------------------+------------------+\n",
            "| station_id|         longitude|          latitude|\n",
            "+-----------+------------------+------------------+\n",
            "|ET000063330| 39.49150085449219|              13.5|\n",
            "|ET000063331| 37.40767124720982|12.524285861424037|\n",
            "|ET000063332| 37.36233266194662|11.510000228881836|\n",
            "|ET000063333| 39.72876739501953| 11.10456657409668|\n",
            "|ET000063334| 37.71899922688802|10.311000188191732|\n",
            "|ET000063402| 36.82907581329346| 7.668424963951111|\n",
            "|ET000063403| 35.53209940592448| 8.149999618530273|\n",
            "|ET000063451| 38.98500061035156| 8.581500053405762|\n",
            "|ET000063453|40.050000508626304| 8.913333257039389|\n",
            "|ET000063471| 41.72999954223633| 9.516667048136393|\n",
            "|ET000063473|42.659250259399414| 9.295750141143799|\n",
            "|ET000063474|              40.0| 7.087666670481364|\n",
            "|ET000063478| 43.30649948120117| 5.980000019073486|\n",
            "|ET000063533| 39.68499946594238| 5.315000057220459|\n",
            "+-----------+------------------+------------------+\n",
            "\n"
          ]
        }
      ],
      "source": [
        "unique_stations.show()"
      ],
      "id": "07uKm-ISmD0s"
    },
    {
      "cell_type": "code",
      "execution_count": null,
      "metadata": {
        "colab": {
          "base_uri": "https://localhost:8080/"
        },
        "id": "R3et4tr6mIjO",
        "outputId": "306665d4-4026-448c-f689-473e27fbac33"
      },
      "outputs": [
        {
          "output_type": "execute_result",
          "data": {
            "text/plain": [
              "14"
            ]
          },
          "metadata": {},
          "execution_count": 52
        }
      ],
      "source": [
        "unique_stations.count()"
      ],
      "id": "R3et4tr6mIjO"
    },
    {
      "cell_type": "markdown",
      "metadata": {
        "id": "-QVqlDm3i2mG"
      },
      "source": [
        "Now join the new latitude and longitude values to the main dataframe"
      ],
      "id": "-QVqlDm3i2mG"
    },
    {
      "cell_type": "code",
      "execution_count": null,
      "metadata": {
        "id": "kblOVEyXqs-g"
      },
      "outputs": [],
      "source": [
        "dfs2 = []\n",
        "for df in dfs_1:\n",
        "  df2 = df.join(unique_stations, ['station_id']).select(df.station_id, df.station,\n",
        "      df.date, df.elev_m, df.prcp_10mm, df.TAVG, unique_stations.longitude,\n",
        "      unique_stations.latitude)\n",
        "  dfs2.append(df2)"
      ],
      "id": "kblOVEyXqs-g"
    },
    {
      "cell_type": "code",
      "execution_count": null,
      "metadata": {
        "colab": {
          "base_uri": "https://localhost:8080/"
        },
        "id": "u_PzVIUtt0QJ",
        "outputId": "9ddc57bb-478e-4195-a753-8e9eea9c4d52"
      },
      "outputs": [
        {
          "output_type": "stream",
          "name": "stdout",
          "text": [
            "+-----------+-----------+----------+------+---------+-------+-----------------+------------------+\n",
            "| station_id|    station|      date|elev_m|prcp_10mm|   TAVG|        longitude|          latitude|\n",
            "+-----------+-----------+----------+------+---------+-------+-----------------+------------------+\n",
            "|ET000063334|DEBREMARCOS|1957-01-31|2515.0|      0.0| 1602.0|37.71899922688802|10.311000188191732|\n",
            "|ET000063334|DEBREMARCOS|1967-09-30|2515.0|   2427.0| 1442.0|37.71899922688802|10.311000188191732|\n",
            "|ET000063334|DEBREMARCOS|1969-08-31|2515.0|   3140.0|-9999.0|37.71899922688802|10.311000188191732|\n",
            "|ET000063334|DEBREMARCOS|1971-04-30|2515.0|    185.0|-9999.0|37.71899922688802|10.311000188191732|\n",
            "+-----------+-----------+----------+------+---------+-------+-----------------+------------------+\n",
            "only showing top 4 rows\n",
            "\n"
          ]
        }
      ],
      "source": [
        "dfs2[4].show(4)"
      ],
      "id": "u_PzVIUtt0QJ"
    },
    {
      "cell_type": "markdown",
      "metadata": {
        "id": "8b114588-9407-4b15-91fc-8a404533e693"
      },
      "source": [
        "See the total number of stations we are working with"
      ],
      "id": "8b114588-9407-4b15-91fc-8a404533e693"
    },
    {
      "cell_type": "code",
      "execution_count": null,
      "metadata": {
        "colab": {
          "base_uri": "https://localhost:8080/"
        },
        "id": "da5d026e-5335-46f5-928e-3243c64b55e1",
        "outputId": "40446c58-4aed-4a34-d2f0-660be5510f0a"
      },
      "outputs": [
        {
          "output_type": "stream",
          "name": "stdout",
          "text": [
            "The number of stations for this project in Ethiopia is 167\n"
          ]
        }
      ],
      "source": [
        "print(\"The number of stations for this project in Ethiopia is\", len(dfs2))"
      ],
      "id": "da5d026e-5335-46f5-928e-3243c64b55e1"
    },
    {
      "cell_type": "markdown",
      "metadata": {
        "id": "09539435-068a-4e4e-b0ac-b5b851338ead"
      },
      "source": [
        "## 6) Data cleaning and modeling"
      ],
      "id": "09539435-068a-4e4e-b0ac-b5b851338ead"
    },
    {
      "cell_type": "markdown",
      "metadata": {
        "id": "fcdf7b2a-14b2-4300-8baf-df03e011743e"
      },
      "source": [
        "This section involves, handling of missing values, removal of outliers, and rectifying inconsistencies in the dataframe. In addition to that the data is visualized with aggregation."
      ],
      "id": "fcdf7b2a-14b2-4300-8baf-df03e011743e"
    },
    {
      "cell_type": "markdown",
      "metadata": {
        "id": "c88b91ed-6aee-4680-97c3-3e6cbdd205e4"
      },
      "source": [
        "### 6.0) Drop unimportant columns"
      ],
      "id": "c88b91ed-6aee-4680-97c3-3e6cbdd205e4"
    },
    {
      "cell_type": "markdown",
      "metadata": {
        "id": "d1074dbe-01f0-427b-98bb-f713c0414ffe"
      },
      "source": [
        "First, give proper names for the variables: precipitation and temperature"
      ],
      "id": "d1074dbe-01f0-427b-98bb-f713c0414ffe"
    },
    {
      "cell_type": "code",
      "execution_count": null,
      "metadata": {
        "id": "e948a432-9153-4d17-829b-80f0ee7a7cb7"
      },
      "outputs": [],
      "source": [
        "dfs_2 = []\n",
        "for df in dfs2:\n",
        "    df_2 = df.withColumn('precipitation', df['prcp_10mm']).\\\n",
        "    withColumn('temperature', df['TAVG']).withColumn('elevation', df['elev_m']).\\\n",
        "    withColumn('lon', df['longitude']).withColumn('lat', df['latitude'])\n",
        "\n",
        "    dfs_2.append(df_2)"
      ],
      "id": "e948a432-9153-4d17-829b-80f0ee7a7cb7"
    },
    {
      "cell_type": "code",
      "execution_count": null,
      "metadata": {
        "colab": {
          "base_uri": "https://localhost:8080/"
        },
        "id": "fd4fef5d-2125-4fc4-b5fe-0b5e74845e7d",
        "outputId": "4fca2136-c012-4e60-b890-86cdd6be8fda"
      },
      "outputs": [
        {
          "output_type": "stream",
          "name": "stdout",
          "text": [
            "+-----------+-------+----------+------+---------+-------+-----------------+--------+-------------+-----------+---------+-----------------+----+\n",
            "| station_id|station|      date|elev_m|prcp_10mm|   TAVG|        longitude|latitude|precipitation|temperature|elevation|              lon| lat|\n",
            "+-----------+-------+----------+------+---------+-------+-----------------+--------+-------------+-----------+---------+-----------------+----+\n",
            "|ET000063330| MAKALE|1963-08-31|2070.0|   1631.0|-9999.0|39.49150085449219|    13.5|       1631.0|    -9999.0|   2070.0|39.49150085449219|13.5|\n",
            "|ET000063330| MAKALE|1967-10-31|2070.0|     56.0| 1577.0|39.49150085449219|    13.5|         56.0|     1577.0|   2070.0|39.49150085449219|13.5|\n",
            "+-----------+-------+----------+------+---------+-------+-----------------+--------+-------------+-----------+---------+-----------------+----+\n",
            "only showing top 2 rows\n",
            "\n"
          ]
        }
      ],
      "source": [
        "dfs_2[0].show(2)"
      ],
      "id": "fd4fef5d-2125-4fc4-b5fe-0b5e74845e7d"
    },
    {
      "cell_type": "markdown",
      "metadata": {
        "id": "f7f787bf-9cdd-43ab-9151-cce9614e2545"
      },
      "source": [
        "Then, drop the old columns"
      ],
      "id": "f7f787bf-9cdd-43ab-9151-cce9614e2545"
    },
    {
      "cell_type": "code",
      "execution_count": null,
      "metadata": {
        "id": "ac8ecafc-e625-4d3e-a7c9-fa2c4f30506f"
      },
      "outputs": [],
      "source": [
        "# drop unimportant columns\n",
        "dfs3 = []\n",
        "for df in dfs_2:\n",
        "    df3 = df.drop('elev_m', 'prcp_10mm', 'TAVG', 'station_1', 'longitude', 'latitude')\n",
        "    dfs3.append(df3)"
      ],
      "id": "ac8ecafc-e625-4d3e-a7c9-fa2c4f30506f"
    },
    {
      "cell_type": "code",
      "execution_count": null,
      "metadata": {
        "colab": {
          "base_uri": "https://localhost:8080/"
        },
        "id": "776e9d5a-f86a-4456-a355-fc35d72f946d",
        "outputId": "2e8d10b5-bbe7-48ff-85f8-3a11117608e2"
      },
      "outputs": [
        {
          "output_type": "stream",
          "name": "stdout",
          "text": [
            "+-----------+--------+----------+-------------+-----------+---------+-----------------+-----------------+\n",
            "| station_id| station|      date|precipitation|temperature|elevation|              lon|              lat|\n",
            "+-----------+--------+----------+-------------+-----------+---------+-----------------+-----------------+\n",
            "|ET000063471|DIREDAWA|1953-08-31|       1168.0|    -9999.0|   1260.0|41.72999954223633|9.516667048136393|\n",
            "|ET000063471|DIREDAWA|1976-08-31|       1291.0|     2592.0|   1260.0|41.72999954223633|9.516667048136393|\n",
            "|ET000063471|DIREDAWA|1964-10-31|         90.0|     2499.0|   1260.0|41.72999954223633|9.516667048136393|\n",
            "+-----------+--------+----------+-------------+-----------+---------+-----------------+-----------------+\n",
            "only showing top 3 rows\n",
            "\n"
          ]
        }
      ],
      "source": [
        "dfs3[9].show(3)"
      ],
      "id": "776e9d5a-f86a-4456-a355-fc35d72f946d"
    },
    {
      "cell_type": "markdown",
      "metadata": {
        "id": "76d55f62-16ce-4eec-920c-d501fce232fa"
      },
      "source": [
        "### 6.1) Remove dupplicate rows"
      ],
      "id": "76d55f62-16ce-4eec-920c-d501fce232fa"
    },
    {
      "cell_type": "code",
      "execution_count": null,
      "metadata": {
        "id": "00d35049-34c9-490f-9c17-3b5f82f05e6f"
      },
      "outputs": [],
      "source": [
        "# Remove dupplicated rows\n",
        "dfs4 = []\n",
        "for df in dfs3:\n",
        "    df4 = df.distinct()\n",
        "    dfs4.append(df4)"
      ],
      "id": "00d35049-34c9-490f-9c17-3b5f82f05e6f"
    },
    {
      "cell_type": "code",
      "execution_count": null,
      "metadata": {
        "colab": {
          "base_uri": "https://localhost:8080/"
        },
        "id": "c66e49c1-7254-404c-a9da-d2703a471759",
        "outputId": "f1eea9df-917a-498f-d288-13b0431c02bc"
      },
      "outputs": [
        {
          "output_type": "execute_result",
          "data": {
            "text/plain": [
              "804"
            ]
          },
          "metadata": {},
          "execution_count": 63
        }
      ],
      "source": [
        "dfs4[9].count()"
      ],
      "id": "c66e49c1-7254-404c-a9da-d2703a471759"
    },
    {
      "cell_type": "markdown",
      "metadata": {
        "id": "9d4a0e50-56c2-4db1-98d6-596214dbbd1c"
      },
      "source": [
        "### 6.2) Remove or interpolate rows with missing values"
      ],
      "id": "9d4a0e50-56c2-4db1-98d6-596214dbbd1c"
    },
    {
      "cell_type": "code",
      "execution_count": null,
      "metadata": {
        "id": "799c5a18-9a70-428e-94a5-f3bbe8754cd7"
      },
      "outputs": [],
      "source": [
        "# Remove row with values equal to-9999.\n",
        "# These are missing values according to the metadata\n",
        "dfs5 = []\n",
        "for df in dfs4:\n",
        "    df5 = df.filter((df.precipitation != -9999) & (df.temperature != -9999.0))\n",
        "    dfs5.append(df5)"
      ],
      "id": "799c5a18-9a70-428e-94a5-f3bbe8754cd7"
    },
    {
      "cell_type": "code",
      "execution_count": null,
      "metadata": {
        "colab": {
          "base_uri": "https://localhost:8080/"
        },
        "id": "c184f7f0-3fa0-421a-877e-4728693e00bb",
        "outputId": "64cd468c-58ad-450d-d528-2490fdad9339"
      },
      "outputs": [
        {
          "output_type": "execute_result",
          "data": {
            "text/plain": [
              "652"
            ]
          },
          "metadata": {},
          "execution_count": 65
        }
      ],
      "source": [
        "dfs5[9].count()"
      ],
      "id": "c184f7f0-3fa0-421a-877e-4728693e00bb"
    },
    {
      "cell_type": "markdown",
      "metadata": {
        "id": "7b1294e4-dcad-4bd3-bc52-8d43b126e743"
      },
      "source": [
        "Note that key variables such as precipitation might not have been recorded at all in some stations in Ethiopia. Such discripancies, however, may be uncommon in advanced countries like the US. Have a look at the following three dataframes."
      ],
      "id": "7b1294e4-dcad-4bd3-bc52-8d43b126e743"
    },
    {
      "cell_type": "markdown",
      "metadata": {
        "id": "8b067e7d-7f28-4b14-99da-4f62ca6940c3"
      },
      "source": [
        "### 6.3) Remove rows whose values are NULL and/or Negative"
      ],
      "id": "8b067e7d-7f28-4b14-99da-4f62ca6940c3"
    },
    {
      "cell_type": "markdown",
      "metadata": {
        "id": "ab8135cd-2b56-4b90-8dd4-8c62c765ab98"
      },
      "source": [
        "Remove NULL values"
      ],
      "id": "ab8135cd-2b56-4b90-8dd4-8c62c765ab98"
    },
    {
      "cell_type": "code",
      "execution_count": null,
      "metadata": {
        "id": "1c90ea4c-db29-4d28-8deb-282b51cec789"
      },
      "outputs": [],
      "source": [
        "# Remove those row whose values are NULL\n",
        "dfs6 = []\n",
        "for df in dfs5:\n",
        "    df6 = df.na.drop()\n",
        "    dfs6.append(df6)"
      ],
      "id": "1c90ea4c-db29-4d28-8deb-282b51cec789"
    },
    {
      "cell_type": "code",
      "execution_count": null,
      "metadata": {
        "colab": {
          "base_uri": "https://localhost:8080/"
        },
        "id": "ff18f0fb-59eb-4277-99c5-d540db32cd59",
        "outputId": "3a342e94-6f01-49f4-ea3a-394f744e12f4"
      },
      "outputs": [
        {
          "output_type": "execute_result",
          "data": {
            "text/plain": [
              "652"
            ]
          },
          "metadata": {},
          "execution_count": 67
        }
      ],
      "source": [
        "dfs6[9].count()"
      ],
      "id": "ff18f0fb-59eb-4277-99c5-d540db32cd59"
    },
    {
      "cell_type": "markdown",
      "metadata": {
        "id": "0wZ4iWdk6p_r"
      },
      "source": [
        "There are extremely high values in the precipitation, such as 35520. Such values must be removed."
      ],
      "id": "0wZ4iWdk6p_r"
    },
    {
      "cell_type": "markdown",
      "metadata": {
        "id": "770f94fa-07f2-4b2b-af6e-4f728473beee"
      },
      "source": [
        "Remove negative values for precipitation because precipitation can not be a negative number."
      ],
      "id": "770f94fa-07f2-4b2b-af6e-4f728473beee"
    },
    {
      "cell_type": "code",
      "execution_count": null,
      "metadata": {
        "id": "1ca19ee0-0033-4486-be75-c2d68ec533bf"
      },
      "outputs": [],
      "source": [
        "# Remove negative values of precipitation if any\n",
        "dfs7 = []\n",
        "for df in dfs6:\n",
        "    df7 = df.filter((df[\"precipitation\"] >= 0) & (df[\"precipitation\"] <= 8000))\n",
        "    dfs7.append(df7)"
      ],
      "id": "1ca19ee0-0033-4486-be75-c2d68ec533bf"
    },
    {
      "cell_type": "code",
      "execution_count": null,
      "metadata": {
        "colab": {
          "base_uri": "https://localhost:8080/"
        },
        "id": "ea86b2a8-4b1e-4520-bdbe-b1cdab574bd6",
        "outputId": "89d966b8-4db3-4803-a6bf-f7d632d624bb"
      },
      "outputs": [
        {
          "output_type": "stream",
          "name": "stdout",
          "text": [
            "+-----------+--------+----------+-------------+-----------+---------+-----------------+-----------------+\n",
            "| station_id| station|      date|precipitation|temperature|elevation|              lon|              lat|\n",
            "+-----------+--------+----------+-------------+-----------+---------+-----------------+-----------------+\n",
            "|ET000063471|DIREDAWA|1976-08-31|       1291.0|     2592.0|   1260.0|41.72999954223633|9.516667048136393|\n",
            "|ET000063471|DIREDAWA|1964-10-31|         90.0|     2499.0|   1260.0|41.72999954223633|9.516667048136393|\n",
            "|ET000063471|DIREDAWA|1969-05-31|         24.0|     2751.0|   1260.0|41.72999954223633|9.516667048136393|\n",
            "+-----------+--------+----------+-------------+-----------+---------+-----------------+-----------------+\n",
            "only showing top 3 rows\n",
            "\n",
            "+-----------+-------+----------+-------------+-----------+---------+------------------+-----------------+\n",
            "| station_id|station|      date|precipitation|temperature|elevation|               lon|              lat|\n",
            "+-----------+-------+----------+-------------+-----------+---------+------------------+-----------------+\n",
            "|ET000063473|JIGGIGA|1955-09-30|        891.0|     2032.0|   1644.0|42.659250259399414|9.295750141143799|\n",
            "|ET000063473|JIGGIGA|1958-01-31|        474.0|     1870.0|   1644.0|42.659250259399414|9.295750141143799|\n",
            "|ET000063473|JIGGIGA|1972-08-31|       1698.0|     2097.0|   1644.0|42.659250259399414|9.295750141143799|\n",
            "+-----------+-------+----------+-------------+-----------+---------+------------------+-----------------+\n",
            "only showing top 3 rows\n",
            "\n"
          ]
        }
      ],
      "source": [
        "dfs7[9].show(3)\n",
        "dfs7[10].show(3)"
      ],
      "id": "ea86b2a8-4b1e-4520-bdbe-b1cdab574bd6"
    },
    {
      "cell_type": "code",
      "execution_count": null,
      "metadata": {
        "colab": {
          "base_uri": "https://localhost:8080/"
        },
        "id": "1b381855-aac1-43ea-b901-4545d1cca248",
        "outputId": "a8daee91-412a-4bec-e2d3-fd24466db43d"
      },
      "outputs": [
        {
          "output_type": "execute_result",
          "data": {
            "text/plain": [
              "646"
            ]
          },
          "metadata": {},
          "execution_count": 70
        }
      ],
      "source": [
        "dfs7[9].count()"
      ],
      "id": "1b381855-aac1-43ea-b901-4545d1cca248"
    },
    {
      "cell_type": "markdown",
      "metadata": {
        "id": "1ae639d7-3604-4b4d-a2d1-9e6984149de8"
      },
      "source": [
        "### 6.4) Detect and remove outliers if necessary"
      ],
      "id": "1ae639d7-3604-4b4d-a2d1-9e6984149de8"
    },
    {
      "cell_type": "markdown",
      "metadata": {
        "id": "34c5d78b-384b-41e1-a3e8-3e5762b5ddcd"
      },
      "source": [
        "Check for outliers and remove if necessary\n",
        "This cleaning activity has to be done for each of the variables (precipitation, temperature). We can detect outlier using the following code, but it looks like it takes morethan an hour to run. So, I did only once and commented the cell out."
      ],
      "id": "34c5d78b-384b-41e1-a3e8-3e5762b5ddcd"
    },
    {
      "cell_type": "markdown",
      "metadata": {
        "id": "c76b5cf9-cc79-4019-abf7-a7b1f6c17bf8"
      },
      "source": [
        "#### 6.4.1) Identify outliers"
      ],
      "id": "c76b5cf9-cc79-4019-abf7-a7b1f6c17bf8"
    },
    {
      "cell_type": "code",
      "execution_count": null,
      "metadata": {
        "id": "74815e26-c671-4364-bb1e-118fb5ddb1e2"
      },
      "outputs": [],
      "source": [
        "#Ourliers of precipitation\n",
        "#col_p = 'precipitation'\n",
        "#bounds_p = {}\n",
        "#for df in dfs7:\n",
        "    #quantiles = df.approxQuantile(col_p, [0.25, 0.75], 0.05)\n",
        "    #IQR = quantiles[1] - quantiles[0]\n",
        "    #bounds_p[col_p] = [quantiles[0] - 1.5 * IQR, quantiles[1] + 1.5 * IQR]"
      ],
      "id": "74815e26-c671-4364-bb1e-118fb5ddb1e2"
    },
    {
      "cell_type": "code",
      "execution_count": null,
      "metadata": {
        "id": "14035d4c-c12f-4f03-bbbf-c18e73b96122"
      },
      "outputs": [],
      "source": [
        "Ourliers of temperature\n",
        "col_t = 'temperature'\n",
        "bounds_t = {}\n",
        "for df in dfs7:\n",
        "    quantiles = df.approxQuantile(col_t, [0.25, 0.75], 0.05)\n",
        "    IQR = quantiles[1] - quantiles[0]\n",
        "    bounds_t[col_t] = [quantiles[0] - 1.5 * IQR, quantiles[1] + 1.5 * IQR]"
      ],
      "id": "14035d4c-c12f-4f03-bbbf-c18e73b96122"
    },
    {
      "cell_type": "code",
      "execution_count": null,
      "metadata": {
        "id": "aafb48c8-4265-4065-aac5-2b6a1a416aff"
      },
      "outputs": [],
      "source": [
        "bounds_p"
      ],
      "id": "aafb48c8-4265-4065-aac5-2b6a1a416aff"
    },
    {
      "cell_type": "code",
      "execution_count": null,
      "metadata": {
        "id": "552f4b22-c483-4cdd-8217-8d59722cdae2"
      },
      "outputs": [],
      "source": [
        "bounds_t"
      ],
      "id": "552f4b22-c483-4cdd-8217-8d59722cdae2"
    },
    {
      "cell_type": "markdown",
      "metadata": {
        "id": "d5c10114-4f60-4d15-95dd-75aa92a82b12"
      },
      "source": [
        "#### 6.4.2) Flag the outliers"
      ],
      "id": "d5c10114-4f60-4d15-95dd-75aa92a82b12"
    },
    {
      "cell_type": "code",
      "execution_count": null,
      "metadata": {
        "id": "c91cc373-bded-4509-8aea-1af4758a168c"
      },
      "outputs": [],
      "source": [
        "# For precipitation\n",
        "outlier_list_p = []\n",
        "for df in dfs7:\n",
        "    outliers = df.select(*['station_id'] + [((df[col_p] < bounds_p[col_p][0]) |\n",
        "                                             (df[col_p] > bounds_p[col_p][1])).\n",
        "                                            alias(col_p + '_outlier')])\n",
        "    outlier_list_p.append(outliers)"
      ],
      "id": "c91cc373-bded-4509-8aea-1af4758a168c"
    },
    {
      "cell_type": "code",
      "execution_count": null,
      "metadata": {
        "id": "a45e1247-95eb-4f65-a0f4-6108d2e26ba6"
      },
      "outputs": [],
      "source": [
        "outlier_list_p[9].show(3)"
      ],
      "id": "a45e1247-95eb-4f65-a0f4-6108d2e26ba6"
    },
    {
      "cell_type": "code",
      "execution_count": null,
      "metadata": {
        "id": "7a078718-27bc-41bf-8ebd-0826fb996313"
      },
      "outputs": [],
      "source": [
        "# For temperature\n",
        "outlier_list_t = []\n",
        "for df in dfs7:\n",
        "    outliers = df.select(*['station_id'] + [((df[col_t] < bounds_t[col_t][0]) |\n",
        "                                             (df[col_t] > bounds_t[col_t][1])).\n",
        "                                            alias(col_t + '_outlier')])\n",
        "    outlier_list_t.append(outliers)"
      ],
      "id": "7a078718-27bc-41bf-8ebd-0826fb996313"
    },
    {
      "cell_type": "code",
      "execution_count": null,
      "metadata": {
        "id": "10169295-70a6-4d03-8f10-636cea287b59"
      },
      "outputs": [],
      "source": [
        "outlier_list_t[9].show(3)"
      ],
      "id": "10169295-70a6-4d03-8f10-636cea287b59"
    },
    {
      "cell_type": "markdown",
      "metadata": {
        "id": "c9d09b2d-4992-4607-8d41-abe939ab9955"
      },
      "source": [
        "#### 6.4.3) Join the outliers table with the main dataframe"
      ],
      "id": "c9d09b2d-4992-4607-8d41-abe939ab9955"
    },
    {
      "cell_type": "markdown",
      "metadata": {
        "id": "01c7594f-dd1d-4370-a418-3dfb2a0912bb"
      },
      "source": [
        "Join for precipitation ouliers"
      ],
      "id": "01c7594f-dd1d-4370-a418-3dfb2a0912bb"
    },
    {
      "cell_type": "code",
      "execution_count": null,
      "metadata": {
        "id": "6f9695cc-18df-471e-bd5e-1afe6c3d3309"
      },
      "outputs": [],
      "source": [
        "dfs8 = []\n",
        "for df in dfs7:\n",
        "    for out in outlier_list_p:\n",
        "        if dfs7.index(df) == outlier_list_p.index(out):\n",
        "            df8 = df.join(out, ['station_id']).select(\n",
        "                df.station_id, df.station, df.date, df.lon, df.lat,\n",
        "                df.elevation, df.precipitation, df.temperature,\n",
        "                out.precipitation_outlier)\n",
        "            dfs8.append(df8)\n",
        "        else:\n",
        "            pass"
      ],
      "id": "6f9695cc-18df-471e-bd5e-1afe6c3d3309"
    },
    {
      "cell_type": "code",
      "execution_count": null,
      "metadata": {
        "id": "37da5bba-ab48-48a4-837d-012d52f51f51"
      },
      "outputs": [],
      "source": [
        "dfs8[9].show(8)"
      ],
      "id": "37da5bba-ab48-48a4-837d-012d52f51f51"
    },
    {
      "cell_type": "markdown",
      "metadata": {
        "id": "a0f819e5-e32e-4854-aa5c-65b2fac3af5a"
      },
      "source": [
        "Join for temperature outliers"
      ],
      "id": "a0f819e5-e32e-4854-aa5c-65b2fac3af5a"
    },
    {
      "cell_type": "code",
      "execution_count": null,
      "metadata": {
        "id": "fa126b6a-678c-4510-a516-58f7689c792f"
      },
      "outputs": [],
      "source": [
        "dfs9 = []\n",
        "for df in dfs8:\n",
        "    for out in outlier_list_t:\n",
        "        if dfs8.index(df) == outlier_list_t.index(out):\n",
        "            df9 = df.join(out, ['station_id']).select(\n",
        "                df.station_id, df.station, df.date, df.lon, df.lat,\n",
        "                df.elevation, df.precipitation, df.temperature,\n",
        "                df.precipitation_outlier, out.temperature_outlier)\n",
        "            dfs9.append(df9)\n",
        "        else:\n",
        "            pass"
      ],
      "id": "fa126b6a-678c-4510-a516-58f7689c792f"
    },
    {
      "cell_type": "code",
      "execution_count": null,
      "metadata": {
        "id": "20964a91-39a5-4f20-b195-e4b6e870678c"
      },
      "outputs": [],
      "source": [
        "dfs9[9].show(8)"
      ],
      "id": "20964a91-39a5-4f20-b195-e4b6e870678c"
    },
    {
      "cell_type": "markdown",
      "metadata": {
        "id": "0327d15c-522a-4aa2-a698-4706258d089a"
      },
      "source": [
        "#### 6.4.4) Romove those rows having the outlier values, and count the result"
      ],
      "id": "0327d15c-522a-4aa2-a698-4706258d089a"
    },
    {
      "cell_type": "markdown",
      "metadata": {
        "id": "405ac588-10d1-49ee-9307-089cf16660ef"
      },
      "source": [
        "Remove those rows whose precipitation as well as temperature values are NOT outliers (i.e., if both precipitation_outlier and precipitation_outlier got the value 'false')"
      ],
      "id": "405ac588-10d1-49ee-9307-089cf16660ef"
    },
    {
      "cell_type": "code",
      "execution_count": null,
      "metadata": {
        "id": "7960b4a0-00bc-40d1-b369-e5e6e3007ffb"
      },
      "outputs": [],
      "source": [
        "dfs10 = []\n",
        "for df in dfs9:\n",
        "    condition = (df.precipitation_outlier == 'false') | (\n",
        "        df.temperature_outlier == 'false')\n",
        "    df10 = df.select(\n",
        "        df.station_id, df.station, df.date, df.lon, df.lat, df.elevation, \\\n",
        "        df.precipitation, df.temperature).filter(condition)\n",
        "    dfs10.append(df10)"
      ],
      "id": "7960b4a0-00bc-40d1-b369-e5e6e3007ffb"
    },
    {
      "cell_type": "code",
      "execution_count": null,
      "metadata": {
        "id": "7ee57f21-0663-4965-a888-e02586bd7f0e"
      },
      "outputs": [],
      "source": [
        "dfs10[9].show(4)\n",
        "dfs10[10].show(4)"
      ],
      "id": "7ee57f21-0663-4965-a888-e02586bd7f0e"
    },
    {
      "cell_type": "code",
      "execution_count": null,
      "metadata": {
        "id": "4925656b-be65-4c34-a4c0-821fd54a4023"
      },
      "outputs": [],
      "source": [
        "dfs10[9].count()"
      ],
      "id": "4925656b-be65-4c34-a4c0-821fd54a4023"
    },
    {
      "cell_type": "markdown",
      "metadata": {
        "id": "1ad20668-58b5-4a1e-9c7b-307e4cb11fb5"
      },
      "source": [
        "#### 6.4.5) Now once again, remove the duplicates which were generated from the joins"
      ],
      "id": "1ad20668-58b5-4a1e-9c7b-307e4cb11fb5"
    },
    {
      "cell_type": "code",
      "execution_count": null,
      "metadata": {
        "id": "c0d58227-df5f-49cb-95d6-fb1b1e2eaa96"
      },
      "outputs": [],
      "source": [
        "dfs11 = []\n",
        "for df in dfs10:\n",
        "    df11 = df.distinct()\n",
        "    dfs11.append(df11)"
      ],
      "id": "c0d58227-df5f-49cb-95d6-fb1b1e2eaa96"
    },
    {
      "cell_type": "code",
      "execution_count": null,
      "metadata": {
        "id": "fff51137-0586-42c4-91b5-4a90972d8228"
      },
      "outputs": [],
      "source": [
        "dfs11[9].show(8)"
      ],
      "id": "fff51137-0586-42c4-91b5-4a90972d8228"
    },
    {
      "cell_type": "code",
      "execution_count": null,
      "metadata": {
        "id": "9eb42aef-3b97-4e27-a2ca-261d1b7b97a5"
      },
      "outputs": [],
      "source": [
        "dfs11[9].count()"
      ],
      "id": "9eb42aef-3b97-4e27-a2ca-261d1b7b97a5"
    },
    {
      "cell_type": "markdown",
      "metadata": {
        "id": "dd176ffa-b725-4774-ac95-2df394a7d482"
      },
      "source": [
        "### 6.5) Make summary and description to make a better understanding of the data"
      ],
      "id": "dd176ffa-b725-4774-ac95-2df394a7d482"
    },
    {
      "cell_type": "markdown",
      "metadata": {
        "id": "657ce209-d5e4-4387-876e-338d0ab8fa37"
      },
      "source": [
        "#### 6.5.1) Make descriptive statisitcs"
      ],
      "id": "657ce209-d5e4-4387-876e-338d0ab8fa37"
    },
    {
      "cell_type": "code",
      "execution_count": null,
      "metadata": {
        "id": "9bdcb10b-69f4-48fa-84eb-22deffc368c4"
      },
      "outputs": [],
      "source": [
        "df_desc = []\n",
        "for df in dfs7:\n",
        "    desc = df.describe([col_p, col_t])\n",
        "    df_desc.append(desc)"
      ],
      "id": "9bdcb10b-69f4-48fa-84eb-22deffc368c4"
    },
    {
      "cell_type": "code",
      "execution_count": null,
      "metadata": {
        "colab": {
          "base_uri": "https://localhost:8080/"
        },
        "id": "af41b230-ff13-4e14-a857-a4b9cce0ca7e",
        "outputId": "e9274a26-1062-4c56-aedc-724bea74707d"
      },
      "outputs": [
        {
          "output_type": "stream",
          "name": "stdout",
          "text": [
            "+-------+-----------------+-----------------+\n",
            "|summary|    precipitation|      temperature|\n",
            "+-------+-----------------+-----------------+\n",
            "|  count|              646|              646|\n",
            "|   mean|549.5572755417957| 2540.96439628483|\n",
            "| stddev|602.9278632990297|237.2112465179428|\n",
            "|    min|              0.0|           2036.0|\n",
            "|    max|           4360.0|           3050.0|\n",
            "+-------+-----------------+-----------------+\n",
            "\n"
          ]
        }
      ],
      "source": [
        "df_desc[9].show()"
      ],
      "id": "af41b230-ff13-4e14-a857-a4b9cce0ca7e"
    },
    {
      "cell_type": "markdown",
      "metadata": {
        "id": "15f14703-a8eb-4361-aeca-3fc9b4831488"
      },
      "source": [
        "#### 6.5.2) Make summarization"
      ],
      "id": "15f14703-a8eb-4361-aeca-3fc9b4831488"
    },
    {
      "cell_type": "markdown",
      "metadata": {
        "id": "ziVOCqOiYXCm"
      },
      "source": [
        "Let's aggregate the mean of the three vairables: elevation, precipiation, and temperature. That help us see the correlations at later stage"
      ],
      "id": "ziVOCqOiYXCm"
    },
    {
      "cell_type": "code",
      "execution_count": null,
      "metadata": {
        "id": "pBJrOhmIbGsF"
      },
      "outputs": [],
      "source": [
        "all_dfs = dfs7[0]\n",
        "for df in dfs7[1:]:\n",
        "    all_dfs = all_dfs.union(df)"
      ],
      "id": "pBJrOhmIbGsF"
    },
    {
      "cell_type": "code",
      "execution_count": null,
      "metadata": {
        "id": "G9v81PwncsMv"
      },
      "outputs": [],
      "source": [
        "all_dfs.show(8)"
      ],
      "id": "G9v81PwncsMv"
    },
    {
      "cell_type": "markdown",
      "metadata": {
        "id": "ByckJewnZRXS"
      },
      "source": [
        "Aggregation by year:"
      ],
      "id": "ByckJewnZRXS"
    },
    {
      "cell_type": "code",
      "execution_count": null,
      "metadata": {
        "id": "b4226a4c-aa1f-4e92-98bb-e35c3ba4c9aa"
      },
      "outputs": [],
      "source": [
        "df_by_year = all_dfs.groupBy(year(\"date\")).mean('elevation', 'precipitation', 'temperature')"
      ],
      "id": "b4226a4c-aa1f-4e92-98bb-e35c3ba4c9aa"
    },
    {
      "cell_type": "code",
      "execution_count": null,
      "metadata": {
        "id": "ecadedf0-d4c6-434a-83e2-3d1fdcf23e88"
      },
      "outputs": [],
      "source": [
        "df_by_year.show(5)"
      ],
      "id": "ecadedf0-d4c6-434a-83e2-3d1fdcf23e88"
    },
    {
      "cell_type": "markdown",
      "metadata": {
        "id": "AWo_xFrCpPQT"
      },
      "source": [
        "Let's see how many year of data we are dealing with"
      ],
      "id": "AWo_xFrCpPQT"
    },
    {
      "cell_type": "code",
      "execution_count": null,
      "metadata": {
        "id": "V-cqFjOfpI0E"
      },
      "outputs": [],
      "source": [
        "df_by_year.count()"
      ],
      "id": "V-cqFjOfpI0E"
    },
    {
      "cell_type": "markdown",
      "metadata": {
        "id": "Z_Ye1InpZU7u"
      },
      "source": [
        "Aggregation by station (town)"
      ],
      "id": "Z_Ye1InpZU7u"
    },
    {
      "cell_type": "code",
      "execution_count": null,
      "metadata": {
        "id": "UHTBz2PXila7"
      },
      "outputs": [],
      "source": [
        "#df_by_station = all_dfs.groupBy(\"station\").mean('elevation', 'precipitation', 'temperature')"
      ],
      "id": "UHTBz2PXila7"
    },
    {
      "cell_type": "code",
      "execution_count": null,
      "metadata": {
        "id": "cjnedJ4cgoDG"
      },
      "outputs": [],
      "source": [
        "df_by_station.show(8)"
      ],
      "id": "cjnedJ4cgoDG"
    },
    {
      "cell_type": "markdown",
      "metadata": {
        "id": "op6ksg1-oMN6"
      },
      "source": [
        "Now let us join both dataframes, that helps us for visualization per station at later stage."
      ],
      "id": "op6ksg1-oMN6"
    },
    {
      "cell_type": "code",
      "execution_count": null,
      "metadata": {
        "id": "QYx1yO6UNJZu"
      },
      "outputs": [],
      "source": [
        "stations = df_by_station.join(all_dfs, df_by_station.station ==\n",
        "                              all_dfs.station, 'inner')"
      ],
      "id": "QYx1yO6UNJZu"
    },
    {
      "cell_type": "code",
      "execution_count": null,
      "metadata": {
        "id": "DqpTwnosjx0b"
      },
      "outputs": [],
      "source": [
        "stations.show(8)"
      ],
      "id": "DqpTwnosjx0b"
    },
    {
      "cell_type": "code",
      "execution_count": null,
      "metadata": {
        "id": "NK7P2m8f7LNG"
      },
      "outputs": [],
      "source": [
        "stations_2 = stations.drop('elevation', 'precipitation', 'temperature', 'date')"
      ],
      "id": "NK7P2m8f7LNG"
    },
    {
      "cell_type": "markdown",
      "metadata": {
        "id": "I3-UJdkfvF2t"
      },
      "source": [
        "Remove duplicates that were generated from the joining activity."
      ],
      "id": "I3-UJdkfvF2t"
    },
    {
      "cell_type": "code",
      "execution_count": null,
      "metadata": {
        "id": "_1DqhhAOu_DL"
      },
      "outputs": [],
      "source": [
        "stations_3 = stations_2.dropDuplicates()"
      ],
      "id": "_1DqhhAOu_DL"
    },
    {
      "cell_type": "code",
      "execution_count": null,
      "metadata": {
        "id": "bGc1eQqdFDGm"
      },
      "outputs": [],
      "source": [
        "stations_3.count()"
      ],
      "id": "bGc1eQqdFDGm"
    },
    {
      "cell_type": "code",
      "execution_count": null,
      "metadata": {
        "colab": {
          "base_uri": "https://localhost:8080/"
        },
        "id": "r_abzRf5vVWs",
        "outputId": "d030590f-ef9d-4023-abc6-07f9b78c6d15"
      },
      "outputs": [
        {
          "name": "stdout",
          "output_type": "stream",
          "text": [
            "+-------+-----------------+------------------+------------------+-----------+-------+-------+-----+\n",
            "|station|   avg(elevation)|avg(precipitation)|  avg(temperature)| station_id|station|    lon|  lat|\n",
            "+-------+-----------------+------------------+------------------+-----------+-------+-------+-----+\n",
            "| MAKALE|           2070.0|468.68823529411765| 1705.370588235294|ET000063330| MAKALE| 39.483| 13.5|\n",
            "| MEKELE|           2212.0|1169.1666666666667|1834.6666666666667|ET000063330| MEKELE|   39.5| 13.5|\n",
            "| GONDAR|1967.529695024077|1107.1781701444622|2094.4109149277688|ET000063331| GONDAR| 37.417|12.55|\n",
            "| GONDAR|1967.529695024077|1107.1781701444622|2094.4109149277688|ET000063331| GONDAR|37.4167|12.55|\n",
            "+-------+-----------------+------------------+------------------+-----------+-------+-------+-----+\n",
            "only showing top 4 rows\n",
            "\n"
          ]
        }
      ],
      "source": [
        "stations_3.show(4)"
      ],
      "id": "r_abzRf5vVWs"
    },
    {
      "cell_type": "markdown",
      "metadata": {
        "id": "PoegW1RxTO54"
      },
      "source": [
        "Identify duplicate columns"
      ],
      "id": "PoegW1RxTO54"
    },
    {
      "cell_type": "code",
      "execution_count": null,
      "metadata": {
        "id": "CtHvCcJkTN24"
      },
      "outputs": [],
      "source": [
        "# Store all the column names in the list\n",
        "df_cols = stations_3.columns\n",
        "# Get index of the duplicate columns\n",
        "duplicate_col_index = [\n",
        "    idx for idx, val in enumerate(df_cols) if val in df_cols[:idx]]\n",
        "\n",
        "# Create a new list by renaming duplicate\n",
        "# columns by adding prefix '_duplicate'\n",
        "for i in duplicate_col_index:\n",
        "    df_cols[i] = df_cols[i] + '_duplicate'\n",
        "\n",
        "# Rename the duplicate columns in data frame\n",
        "stations_4 = stations_3.toDF(*df_cols)"
      ],
      "id": "CtHvCcJkTN24"
    },
    {
      "cell_type": "markdown",
      "metadata": {
        "id": "ugHnve8xVBVX"
      },
      "source": [
        "Drop the duplicate column"
      ],
      "id": "ugHnve8xVBVX"
    },
    {
      "cell_type": "code",
      "execution_count": null,
      "metadata": {
        "id": "EIWVy-avU_Sy"
      },
      "outputs": [],
      "source": [
        "stations_5 = stations_4.drop('station_duplicate')"
      ],
      "id": "EIWVy-avU_Sy"
    },
    {
      "cell_type": "code",
      "execution_count": null,
      "metadata": {
        "id": "WSjvGAuel5Ak"
      },
      "outputs": [],
      "source": [
        "station_6 = stations_5.dropDuplicates(\n",
        "    [\"station\"]).select(\"station\", 'avg(elevation)', 'avg(precipitation)',\n",
        "                        'avg(temperature)', 'station_id', 'lon', 'lat')"
      ],
      "id": "WSjvGAuel5Ak"
    },
    {
      "cell_type": "code",
      "execution_count": null,
      "metadata": {
        "colab": {
          "base_uri": "https://localhost:8080/"
        },
        "id": "0qc0oX_gmuwb",
        "outputId": "9136316a-5a13-4a3d-844c-bde689dcb5b2"
      },
      "outputs": [
        {
          "name": "stdout",
          "output_type": "stream",
          "text": [
            "+-----------+------------------+------------------+------------------+-----------+------+------+\n",
            "|    station|    avg(elevation)|avg(precipitation)|  avg(temperature)| station_id|   lon|   lat|\n",
            "+-----------+------------------+------------------+------------------+-----------+------+------+\n",
            "|      AWASH|            1052.0| 541.8148148148148|2474.3703703703704|ET000063453|  40.1|   8.9|\n",
            "|  BAHAR DAR|            1770.0|1228.4559270516718| 1921.373860182371|ET000063332|37.417|  11.6|\n",
            "|  COMBOLCHA|1904.3026052104208| 949.9458917835672|1938.0681362725452|ET000063333|39.733|11.117|\n",
            "| DEBRE-ZEIT|            1900.0| 710.1739130434783|1870.8347826086956|ET000063451| 39.02|  8.43|\n",
            "|DEBREMARCOS|            2515.0|1105.3535620052771|1593.4828496042217|ET000063334|37.667|10.333|\n",
            "|  DIRE DAWA|            1260.0|435.42857142857144|2424.1428571428573|ET000063471| 41.85|   9.6|\n",
            "|   DIREDAWA|            1260.0| 690.1178294573643| 2543.246511627907|ET000063471| 41.85|   9.6|\n",
            "|       GOBA|            2700.0|               0.0|            1140.0|ET000063474|  40.0|   7.0|\n",
            "|       GODE|             295.0|180.27450980392157|2846.9346405228757|ET000063478|43.583|   5.9|\n",
            "|     GONDAR| 1967.529695024077|1107.1781701444622|2094.4109149277688|ET000063331|37.417| 12.55|\n",
            "|       GORE|            2002.0|1839.5045045045044| 1840.263063063063|ET000063403|35.533|  8.15|\n",
            "| HARAR MEDA|            1900.0| 775.0286885245902|1822.9426229508197|ET000063451| 38.95| 8.733|\n",
            "|    JIGGIGA|            1644.0| 605.4209115281501|1943.4182305630027|ET000063473|42.717| 9.333|\n",
            "|     JIJIGA|            1644.0|             920.0|            2154.5|ET000063473|42.717| 9.333|\n",
            "+-----------+------------------+------------------+------------------+-----------+------+------+\n",
            "only showing top 14 rows\n",
            "\n"
          ]
        }
      ],
      "source": [
        "station_6.show(14)"
      ],
      "id": "0qc0oX_gmuwb"
    },
    {
      "cell_type": "markdown",
      "metadata": {
        "id": "O-r-K7ap7_0M"
      },
      "source": [
        "#### 6.5.2) Calculate correlation between average temperature and precipitation.\n",
        "\n",
        "\n",
        "1.   Positive correlation coefficient means temperature increase with increase of rain fall\n",
        "2.   Zero corresponds to no correlation and\n",
        "3. Negative correlation coefficient means as the rainfall increases, the temperature tends to cool down, and as the temperature increase, it get drier (less rainy) (which is quite logical)\n",
        "\n"
      ],
      "id": "O-r-K7ap7_0M"
    },
    {
      "cell_type": "markdown",
      "metadata": {
        "id": "NgOrpzO2he9L"
      },
      "source": [
        "#### 6.5.2, 1) Correlation as a whole"
      ],
      "id": "NgOrpzO2he9L"
    },
    {
      "cell_type": "markdown",
      "metadata": {
        "id": "CHBQOAJOY17q"
      },
      "source": [
        "Correlation between precipitation and temperature (using the above yearly aggregation)"
      ],
      "id": "CHBQOAJOY17q"
    },
    {
      "cell_type": "code",
      "execution_count": null,
      "metadata": {
        "id": "axHddYlsY0zz"
      },
      "outputs": [],
      "source": [
        "corr_all = all_dfs.corr('precipitation', 'precipitation')"
      ],
      "id": "axHddYlsY0zz"
    },
    {
      "cell_type": "code",
      "execution_count": null,
      "metadata": {
        "colab": {
          "base_uri": "https://localhost:8080/"
        },
        "id": "1RAcQR6oqak2",
        "outputId": "1e78d88c-d539-4281-ae10-4f27ea5b4ee0"
      },
      "outputs": [
        {
          "name": "stdout",
          "output_type": "stream",
          "text": [
            "1.0\n"
          ]
        }
      ],
      "source": [
        "print(corr_all)"
      ],
      "id": "1RAcQR6oqak2"
    },
    {
      "cell_type": "code",
      "execution_count": null,
      "metadata": {
        "id": "ruzaNBFyoS1R"
      },
      "outputs": [],
      "source": [
        "corr_all_2 = df_by_station.corr ('avg(precipitation)', 'avg(temperature)')"
      ],
      "id": "ruzaNBFyoS1R"
    },
    {
      "cell_type": "markdown",
      "metadata": {
        "id": "Bmx6yI4Didb1"
      },
      "source": [
        "We can even drawl some conclusions from computation correlation between precipitation and temperature per station as follows"
      ],
      "id": "Bmx6yI4Didb1"
    },
    {
      "cell_type": "code",
      "execution_count": null,
      "metadata": {
        "colab": {
          "base_uri": "https://localhost:8080/"
        },
        "id": "XjsBiqj3rcPa",
        "outputId": "0a34525f-048b-4936-a2f5-ef54f20e733f"
      },
      "outputs": [
        {
          "data": {
            "text/plain": [
              "-0.172228602530106"
            ]
          },
          "execution_count": 118,
          "metadata": {},
          "output_type": "execute_result"
        }
      ],
      "source": [
        "corr_all_2"
      ],
      "id": "XjsBiqj3rcPa"
    },
    {
      "cell_type": "code",
      "execution_count": null,
      "metadata": {
        "colab": {
          "base_uri": "https://localhost:8080/"
        },
        "id": "yxtWXJEC7_Ux",
        "outputId": "8e2a3754-cbac-4783-88d1-638a334a5ebd"
      },
      "outputs": [
        {
          "name": "stdout",
          "output_type": "stream",
          "text": [
            "In \"MAKALE\", the temperature cools down in rainy months.\n",
            "In \"GONDAR\", when it is rainy, the temperature raises.\n",
            "In \"BAHAR DAR\", the temperature cools down in rainy months.\n",
            "In \"COMBOLCHA\", the temperature cools down in rainy months.\n",
            "In \"DEBREMARCOS\", when it is rainy, the temperature raises.\n",
            "In \"JIMMA\", the temperature cools down in rainy months.\n",
            "In \"GORE\", when it is rainy, the temperature raises.\n",
            "In \"HARAR MEDA\", when it is rainy, the temperature raises.\n",
            "In \"METEHARA\", the temperature cools down in rainy months.\n",
            "In \"DIREDAWA\", the temperature cools down in rainy months.\n",
            "In \"JIGGIGA\", the temperature cools down in rainy months.\n",
            "In \"ROBE/BALE\", the temperature cools down in rainy months.\n",
            "In \"GODE\", the temperature cools down in rainy months.\n",
            "In \"NEGHELLE\", the temperature cools down in rainy months.\n"
          ]
        }
      ],
      "source": [
        "corr = []\n",
        "for df in dfs11:\n",
        "  town = (df.first().station_name).lstrip()\n",
        "  cr = df.corr('precipitation', 'temperature')\n",
        "  corr.append(cr)\n",
        "  if cr < 0:\n",
        "    print(\"In {}, when it is rainy, the temperature raises.\".format(town))\n",
        "  else:\n",
        "    print(\"In {}, the temperature cools down in rainy months.\".format(town))"
      ],
      "id": "yxtWXJEC7_Ux"
    },
    {
      "cell_type": "code",
      "execution_count": null,
      "metadata": {
        "colab": {
          "base_uri": "https://localhost:8080/"
        },
        "id": "awiqVIYVSTTg",
        "outputId": "38785d0c-1551-43d9-c440-fa13052e33f4"
      },
      "outputs": [
        {
          "data": {
            "text/plain": [
              "([0.057199962148712494,\n",
              "  -0.2704229485468754,\n",
              "  0.011773520859848154,\n",
              "  0.27544899598839534,\n",
              "  -0.4917722790178583,\n",
              "  0.13301080265091808,\n",
              "  -0.4825534701405859,\n",
              "  -0.009259737472431305,\n",
              "  0.2504787625589591,\n",
              "  0.11255880942578622,\n",
              "  0.3776720389746349,\n",
              "  0.3034545659520081,\n",
              "  0.004865098364137438,\n",
              "  0.13682618874758312],)"
            ]
          },
          "execution_count": 120,
          "metadata": {},
          "output_type": "execute_result"
        }
      ],
      "source": [
        "corr,"
      ],
      "id": "awiqVIYVSTTg"
    },
    {
      "cell_type": "markdown",
      "metadata": {
        "id": "b6L7vR8QdC-T"
      },
      "source": [
        "Let's make some more correlations in regards to elevation: 1) Correlation between elevation and rainfall (precipitation); and 2) Correlation between elevation and temperature.\n",
        "\n"
      ],
      "id": "b6L7vR8QdC-T"
    },
    {
      "cell_type": "code",
      "execution_count": null,
      "metadata": {
        "id": "r3w1ofrApX9r"
      },
      "outputs": [],
      "source": [
        "corr_elev_prcp = df_by_station.corr ('avg(elevation)', 'avg(precipitation)')\n"
      ],
      "id": "r3w1ofrApX9r"
    },
    {
      "cell_type": "code",
      "execution_count": null,
      "metadata": {
        "colab": {
          "base_uri": "https://localhost:8080/"
        },
        "id": "AUB1ifG0kHnU",
        "outputId": "b8c4c1f2-f796-41d7-e591-3ffb33ee247b"
      },
      "outputs": [
        {
          "data": {
            "text/plain": [
              "0.30772618077670766"
            ]
          },
          "execution_count": 121,
          "metadata": {},
          "output_type": "execute_result"
        }
      ],
      "source": [
        "corr_elev_prcp"
      ],
      "id": "AUB1ifG0kHnU"
    },
    {
      "cell_type": "markdown",
      "metadata": {
        "id": "H59nIOl_e2V7"
      },
      "source": [
        "Intepretation of correlation between elevation and precipitation:\n",
        "\n",
        "*   If the correlation coefficient is negative, that means the rain fall becomes higher at lowlands (which does **NOT** make sense)\n",
        "*   If the correlation coeffiecent is positive, that means the rain fall is intense in highlands and much scare in lowlands. Our result which is 0.3077 falls under this category, which makes sense.\n"
      ],
      "id": "H59nIOl_e2V7"
    },
    {
      "cell_type": "code",
      "execution_count": null,
      "metadata": {
        "id": "DfULfyob1i86"
      },
      "outputs": [],
      "source": [
        "corr_elev_temp = df_by_station.corr ('avg(elevation)', 'avg(temperature)')"
      ],
      "id": "DfULfyob1i86"
    },
    {
      "cell_type": "code",
      "execution_count": null,
      "metadata": {
        "colab": {
          "base_uri": "https://localhost:8080/"
        },
        "id": "BapvtoJUnQzu",
        "outputId": "a8e9dc82-5ae0-4cda-a773-942e9b4e1893"
      },
      "outputs": [
        {
          "data": {
            "text/plain": [
              "-0.9307437549348588"
            ]
          },
          "execution_count": 123,
          "metadata": {},
          "output_type": "execute_result"
        }
      ],
      "source": [
        "corr_elev_temp"
      ],
      "id": "BapvtoJUnQzu"
    },
    {
      "cell_type": "markdown",
      "metadata": {
        "id": "FU0lduhBfrEi"
      },
      "source": [
        "Intepretation of correlation between elevation and temperature:\n",
        "\n",
        "*   If the correlation coefficient is negative, that means the  lowlands are wormer and highlands are colder. In our case it is a negative value of -0.9307, which makes sense., and\n",
        "*   If the correlation coeffiecent is positive, that means the highlands have higher temperature than low lands (which does **NOT** make sense)\n"
      ],
      "id": "FU0lduhBfrEi"
    },
    {
      "cell_type": "markdown",
      "metadata": {
        "id": "181599ba-0a06-49dd-91ab-1eff6dcffdd1"
      },
      "source": [
        "## 7) Data Visualization (with pandas and matplotlib only)"
      ],
      "id": "181599ba-0a06-49dd-91ab-1eff6dcffdd1"
    },
    {
      "cell_type": "markdown",
      "metadata": {
        "id": "b82a5e8d-daff-4777-b810-b7dd6f78c7fd"
      },
      "source": [
        "Before, we go to machine learning and then to geospatial visualization, let's have some more understanding of the data through pandas and matplotlib packages. Visualization with geopandas will come after machine learning part."
      ],
      "id": "b82a5e8d-daff-4777-b810-b7dd6f78c7fd"
    },
    {
      "cell_type": "markdown",
      "metadata": {
        "id": "443d452b-9fd7-49ef-a934-ee6cbc5c835b"
      },
      "source": [
        "Import the necessary modules"
      ],
      "id": "443d452b-9fd7-49ef-a934-ee6cbc5c835b"
    },
    {
      "cell_type": "code",
      "execution_count": null,
      "metadata": {
        "id": "bf646f5c-0e5f-47d2-9286-d486012f6453"
      },
      "outputs": [],
      "source": [
        "import pandas as pd\n",
        "import matplotlib.pyplot as plt\n",
        "%matplotlib inline\n",
        "import numpy as np"
      ],
      "id": "bf646f5c-0e5f-47d2-9286-d486012f6453"
    },
    {
      "cell_type": "markdown",
      "metadata": {
        "id": "dc99b6f5-94dd-4d11-bb65-191226cff598"
      },
      "source": [
        "### 7.1) Convert the pyspark dataframe to pandas dataframes"
      ],
      "id": "dc99b6f5-94dd-4d11-bb65-191226cff598"
    },
    {
      "cell_type": "code",
      "execution_count": null,
      "metadata": {
        "id": "Wbf2mcByhkOt"
      },
      "outputs": [],
      "source": [
        "# This is a huge number of rows and takes long minues to convert to pandas.\n",
        "# So, we can comment it out and summarized the data as follows.\n",
        "# pdfs = all_dfs.toPandas()"
      ],
      "id": "Wbf2mcByhkOt"
    },
    {
      "cell_type": "code",
      "execution_count": null,
      "metadata": {
        "id": "AGimmkM54XGR"
      },
      "outputs": [],
      "source": [
        "pdfs_year = df_by_year.toPandas()"
      ],
      "id": "AGimmkM54XGR"
    },
    {
      "cell_type": "code",
      "execution_count": null,
      "metadata": {
        "id": "yUhnUF3zCNBc"
      },
      "outputs": [],
      "source": [
        "pdfs_station = station_6.toPandas()"
      ],
      "id": "yUhnUF3zCNBc"
    },
    {
      "cell_type": "code",
      "execution_count": null,
      "metadata": {
        "id": "Z03tvGudQBeo"
      },
      "outputs": [],
      "source": [
        "pdfs_station.head()"
      ],
      "id": "Z03tvGudQBeo"
    },
    {
      "cell_type": "code",
      "execution_count": null,
      "metadata": {
        "id": "x0DbiCVb5OWc"
      },
      "outputs": [],
      "source": [
        "pdfs_year.head()"
      ],
      "id": "x0DbiCVb5OWc"
    },
    {
      "cell_type": "code",
      "execution_count": null,
      "metadata": {
        "colab": {
          "base_uri": "https://localhost:8080/",
          "height": 206
        },
        "id": "2U4oOgqT5OC7",
        "outputId": "ebe20252-4270-41e4-fea6-894069b1f79f"
      },
      "outputs": [
        {
          "data": {
            "text/html": [
              "\n",
              "  <div id=\"df-ce39ef79-d456-48ea-a410-c0a569ac9e1b\" class=\"colab-df-container\">\n",
              "    <div>\n",
              "<style scoped>\n",
              "    .dataframe tbody tr th:only-of-type {\n",
              "        vertical-align: middle;\n",
              "    }\n",
              "\n",
              "    .dataframe tbody tr th {\n",
              "        vertical-align: top;\n",
              "    }\n",
              "\n",
              "    .dataframe thead th {\n",
              "        text-align: right;\n",
              "    }\n",
              "</style>\n",
              "<table border=\"1\" class=\"dataframe\">\n",
              "  <thead>\n",
              "    <tr style=\"text-align: right;\">\n",
              "      <th></th>\n",
              "      <th>station</th>\n",
              "      <th>avg(elevation)</th>\n",
              "      <th>avg(precipitation)</th>\n",
              "      <th>avg(temperature)</th>\n",
              "      <th>station_id</th>\n",
              "      <th>lon</th>\n",
              "      <th>lat</th>\n",
              "    </tr>\n",
              "  </thead>\n",
              "  <tbody>\n",
              "    <tr>\n",
              "      <th>0</th>\n",
              "      <td>MAKALE</td>\n",
              "      <td>2070.000000</td>\n",
              "      <td>468.688235</td>\n",
              "      <td>1705.370588</td>\n",
              "      <td>ET000063330</td>\n",
              "      <td>39.483002</td>\n",
              "      <td>13.50</td>\n",
              "    </tr>\n",
              "    <tr>\n",
              "      <th>1</th>\n",
              "      <td>MEKELE</td>\n",
              "      <td>2212.000000</td>\n",
              "      <td>1169.166667</td>\n",
              "      <td>1834.666667</td>\n",
              "      <td>ET000063330</td>\n",
              "      <td>39.500000</td>\n",
              "      <td>13.50</td>\n",
              "    </tr>\n",
              "    <tr>\n",
              "      <th>2</th>\n",
              "      <td>GONDAR</td>\n",
              "      <td>1967.529695</td>\n",
              "      <td>1107.178170</td>\n",
              "      <td>2094.410915</td>\n",
              "      <td>ET000063331</td>\n",
              "      <td>37.417000</td>\n",
              "      <td>12.55</td>\n",
              "    </tr>\n",
              "    <tr>\n",
              "      <th>3</th>\n",
              "      <td>GONDAR</td>\n",
              "      <td>1967.529695</td>\n",
              "      <td>1107.178170</td>\n",
              "      <td>2094.410915</td>\n",
              "      <td>ET000063331</td>\n",
              "      <td>37.416698</td>\n",
              "      <td>12.55</td>\n",
              "    </tr>\n",
              "    <tr>\n",
              "      <th>4</th>\n",
              "      <td>GONDAR</td>\n",
              "      <td>1967.529695</td>\n",
              "      <td>1107.178170</td>\n",
              "      <td>2094.410915</td>\n",
              "      <td>ET000063331</td>\n",
              "      <td>37.419998</td>\n",
              "      <td>12.55</td>\n",
              "    </tr>\n",
              "  </tbody>\n",
              "</table>\n",
              "</div>\n",
              "    <div class=\"colab-df-buttons\">\n",
              "\n",
              "  <div class=\"colab-df-container\">\n",
              "    <button class=\"colab-df-convert\" onclick=\"convertToInteractive('df-ce39ef79-d456-48ea-a410-c0a569ac9e1b')\"\n",
              "            title=\"Convert this dataframe to an interactive table.\"\n",
              "            style=\"display:none;\">\n",
              "\n",
              "  <svg xmlns=\"http://www.w3.org/2000/svg\" height=\"24px\" viewBox=\"0 -960 960 960\">\n",
              "    <path d=\"M120-120v-720h720v720H120Zm60-500h600v-160H180v160Zm220 220h160v-160H400v160Zm0 220h160v-160H400v160ZM180-400h160v-160H180v160Zm440 0h160v-160H620v160ZM180-180h160v-160H180v160Zm440 0h160v-160H620v160Z\"/>\n",
              "  </svg>\n",
              "    </button>\n",
              "\n",
              "  <style>\n",
              "    .colab-df-container {\n",
              "      display:flex;\n",
              "      gap: 12px;\n",
              "    }\n",
              "\n",
              "    .colab-df-convert {\n",
              "      background-color: #E8F0FE;\n",
              "      border: none;\n",
              "      border-radius: 50%;\n",
              "      cursor: pointer;\n",
              "      display: none;\n",
              "      fill: #1967D2;\n",
              "      height: 32px;\n",
              "      padding: 0 0 0 0;\n",
              "      width: 32px;\n",
              "    }\n",
              "\n",
              "    .colab-df-convert:hover {\n",
              "      background-color: #E2EBFA;\n",
              "      box-shadow: 0px 1px 2px rgba(60, 64, 67, 0.3), 0px 1px 3px 1px rgba(60, 64, 67, 0.15);\n",
              "      fill: #174EA6;\n",
              "    }\n",
              "\n",
              "    .colab-df-buttons div {\n",
              "      margin-bottom: 4px;\n",
              "    }\n",
              "\n",
              "    [theme=dark] .colab-df-convert {\n",
              "      background-color: #3B4455;\n",
              "      fill: #D2E3FC;\n",
              "    }\n",
              "\n",
              "    [theme=dark] .colab-df-convert:hover {\n",
              "      background-color: #434B5C;\n",
              "      box-shadow: 0px 1px 3px 1px rgba(0, 0, 0, 0.15);\n",
              "      filter: drop-shadow(0px 1px 2px rgba(0, 0, 0, 0.3));\n",
              "      fill: #FFFFFF;\n",
              "    }\n",
              "  </style>\n",
              "\n",
              "    <script>\n",
              "      const buttonEl =\n",
              "        document.querySelector('#df-ce39ef79-d456-48ea-a410-c0a569ac9e1b button.colab-df-convert');\n",
              "      buttonEl.style.display =\n",
              "        google.colab.kernel.accessAllowed ? 'block' : 'none';\n",
              "\n",
              "      async function convertToInteractive(key) {\n",
              "        const element = document.querySelector('#df-ce39ef79-d456-48ea-a410-c0a569ac9e1b');\n",
              "        const dataTable =\n",
              "          await google.colab.kernel.invokeFunction('convertToInteractive',\n",
              "                                                    [key], {});\n",
              "        if (!dataTable) return;\n",
              "\n",
              "        const docLinkHtml = 'Like what you see? Visit the ' +\n",
              "          '<a target=\"_blank\" href=https://colab.research.google.com/notebooks/data_table.ipynb>data table notebook</a>'\n",
              "          + ' to learn more about interactive tables.';\n",
              "        element.innerHTML = '';\n",
              "        dataTable['output_type'] = 'display_data';\n",
              "        await google.colab.output.renderOutput(dataTable, element);\n",
              "        const docLink = document.createElement('div');\n",
              "        docLink.innerHTML = docLinkHtml;\n",
              "        element.appendChild(docLink);\n",
              "      }\n",
              "    </script>\n",
              "  </div>\n",
              "\n",
              "\n",
              "<div id=\"df-8281b2e8-314b-4707-8a1a-400ce7246b05\">\n",
              "  <button class=\"colab-df-quickchart\" onclick=\"quickchart('df-8281b2e8-314b-4707-8a1a-400ce7246b05')\"\n",
              "            title=\"Suggest charts\"\n",
              "            style=\"display:none;\">\n",
              "\n",
              "<svg xmlns=\"http://www.w3.org/2000/svg\" height=\"24px\"viewBox=\"0 0 24 24\"\n",
              "     width=\"24px\">\n",
              "    <g>\n",
              "        <path d=\"M19 3H5c-1.1 0-2 .9-2 2v14c0 1.1.9 2 2 2h14c1.1 0 2-.9 2-2V5c0-1.1-.9-2-2-2zM9 17H7v-7h2v7zm4 0h-2V7h2v10zm4 0h-2v-4h2v4z\"/>\n",
              "    </g>\n",
              "</svg>\n",
              "  </button>\n",
              "\n",
              "<style>\n",
              "  .colab-df-quickchart {\n",
              "      --bg-color: #E8F0FE;\n",
              "      --fill-color: #1967D2;\n",
              "      --hover-bg-color: #E2EBFA;\n",
              "      --hover-fill-color: #174EA6;\n",
              "      --disabled-fill-color: #AAA;\n",
              "      --disabled-bg-color: #DDD;\n",
              "  }\n",
              "\n",
              "  [theme=dark] .colab-df-quickchart {\n",
              "      --bg-color: #3B4455;\n",
              "      --fill-color: #D2E3FC;\n",
              "      --hover-bg-color: #434B5C;\n",
              "      --hover-fill-color: #FFFFFF;\n",
              "      --disabled-bg-color: #3B4455;\n",
              "      --disabled-fill-color: #666;\n",
              "  }\n",
              "\n",
              "  .colab-df-quickchart {\n",
              "    background-color: var(--bg-color);\n",
              "    border: none;\n",
              "    border-radius: 50%;\n",
              "    cursor: pointer;\n",
              "    display: none;\n",
              "    fill: var(--fill-color);\n",
              "    height: 32px;\n",
              "    padding: 0;\n",
              "    width: 32px;\n",
              "  }\n",
              "\n",
              "  .colab-df-quickchart:hover {\n",
              "    background-color: var(--hover-bg-color);\n",
              "    box-shadow: 0 1px 2px rgba(60, 64, 67, 0.3), 0 1px 3px 1px rgba(60, 64, 67, 0.15);\n",
              "    fill: var(--button-hover-fill-color);\n",
              "  }\n",
              "\n",
              "  .colab-df-quickchart-complete:disabled,\n",
              "  .colab-df-quickchart-complete:disabled:hover {\n",
              "    background-color: var(--disabled-bg-color);\n",
              "    fill: var(--disabled-fill-color);\n",
              "    box-shadow: none;\n",
              "  }\n",
              "\n",
              "  .colab-df-spinner {\n",
              "    border: 2px solid var(--fill-color);\n",
              "    border-color: transparent;\n",
              "    border-bottom-color: var(--fill-color);\n",
              "    animation:\n",
              "      spin 1s steps(1) infinite;\n",
              "  }\n",
              "\n",
              "  @keyframes spin {\n",
              "    0% {\n",
              "      border-color: transparent;\n",
              "      border-bottom-color: var(--fill-color);\n",
              "      border-left-color: var(--fill-color);\n",
              "    }\n",
              "    20% {\n",
              "      border-color: transparent;\n",
              "      border-left-color: var(--fill-color);\n",
              "      border-top-color: var(--fill-color);\n",
              "    }\n",
              "    30% {\n",
              "      border-color: transparent;\n",
              "      border-left-color: var(--fill-color);\n",
              "      border-top-color: var(--fill-color);\n",
              "      border-right-color: var(--fill-color);\n",
              "    }\n",
              "    40% {\n",
              "      border-color: transparent;\n",
              "      border-right-color: var(--fill-color);\n",
              "      border-top-color: var(--fill-color);\n",
              "    }\n",
              "    60% {\n",
              "      border-color: transparent;\n",
              "      border-right-color: var(--fill-color);\n",
              "    }\n",
              "    80% {\n",
              "      border-color: transparent;\n",
              "      border-right-color: var(--fill-color);\n",
              "      border-bottom-color: var(--fill-color);\n",
              "    }\n",
              "    90% {\n",
              "      border-color: transparent;\n",
              "      border-bottom-color: var(--fill-color);\n",
              "    }\n",
              "  }\n",
              "</style>\n",
              "\n",
              "  <script>\n",
              "    async function quickchart(key) {\n",
              "      const quickchartButtonEl =\n",
              "        document.querySelector('#' + key + ' button');\n",
              "      quickchartButtonEl.disabled = true;  // To prevent multiple clicks.\n",
              "      quickchartButtonEl.classList.add('colab-df-spinner');\n",
              "      try {\n",
              "        const charts = await google.colab.kernel.invokeFunction(\n",
              "            'suggestCharts', [key], {});\n",
              "      } catch (error) {\n",
              "        console.error('Error during call to suggestCharts:', error);\n",
              "      }\n",
              "      quickchartButtonEl.classList.remove('colab-df-spinner');\n",
              "      quickchartButtonEl.classList.add('colab-df-quickchart-complete');\n",
              "    }\n",
              "    (() => {\n",
              "      let quickchartButtonEl =\n",
              "        document.querySelector('#df-8281b2e8-314b-4707-8a1a-400ce7246b05 button');\n",
              "      quickchartButtonEl.style.display =\n",
              "        google.colab.kernel.accessAllowed ? 'block' : 'none';\n",
              "    })();\n",
              "  </script>\n",
              "</div>\n",
              "    </div>\n",
              "  </div>\n"
            ],
            "text/plain": [
              "  station  avg(elevation)  avg(precipitation)  avg(temperature)   station_id  \\\n",
              "0  MAKALE     2070.000000          468.688235       1705.370588  ET000063330   \n",
              "1  MEKELE     2212.000000         1169.166667       1834.666667  ET000063330   \n",
              "2  GONDAR     1967.529695         1107.178170       2094.410915  ET000063331   \n",
              "3  GONDAR     1967.529695         1107.178170       2094.410915  ET000063331   \n",
              "4  GONDAR     1967.529695         1107.178170       2094.410915  ET000063331   \n",
              "\n",
              "         lon    lat  \n",
              "0  39.483002  13.50  \n",
              "1  39.500000  13.50  \n",
              "2  37.417000  12.55  \n",
              "3  37.416698  12.55  \n",
              "4  37.419998  12.55  "
            ]
          },
          "execution_count": 205,
          "metadata": {},
          "output_type": "execute_result"
        }
      ],
      "source": [
        "pdfs_station.head()"
      ],
      "id": "2U4oOgqT5OC7"
    },
    {
      "cell_type": "markdown",
      "metadata": {
        "id": "-L9oa7JVv55m"
      },
      "source": [
        "## 7.2) Time series analysis plots"
      ],
      "id": "-L9oa7JVv55m"
    },
    {
      "cell_type": "markdown",
      "metadata": {
        "id": "geAE9Sx_v76z"
      },
      "source": [
        "It is worth looking at how the trend in precipitation and temperature behaved for the past 73 years"
      ],
      "id": "geAE9Sx_v76z"
    },
    {
      "cell_type": "code",
      "execution_count": null,
      "metadata": {
        "colab": {
          "base_uri": "https://localhost:8080/",
          "height": 718
        },
        "id": "SszCvEmqwOGt",
        "outputId": "f0083f3e-539b-4503-e8ed-348a500b197c"
      },
      "outputs": [
        {
          "data": {
            "image/png": "[encoded data removed]",
            "text/plain": [
              "<Figure size 1000x800 with 1 Axes>"
            ]
          },
          "metadata": {},
          "output_type": "display_data"
        }
      ],
      "source": [
        "pdfs_year.plot.scatter(\n",
        "    x ='year(date)', y = 'avg(precipitation)', xlabel = 'year',\n",
        "    ylabel = 'precipitation (100 of mm)',\n",
        "    title = \"Average monthly precipitation in Ethiopia since 1950\", figsize = (10, 8)\n",
        "                       )\n",
        "# fix the axes values\n",
        "x = pdfs_year['year(date)']\n",
        "y = pdfs_year['avg(precipitation)']\n",
        "#calculate equation for trendline\n",
        "z = np.polyfit(x, y, 1)\n",
        "p = np.poly1d(z)\n",
        "\n",
        "#add trendline to plot\n",
        "plt.plot(x, p(x))\n",
        "\n",
        "# Show the plot\n",
        "plt.show()"
      ],
      "id": "SszCvEmqwOGt"
    },
    {
      "cell_type": "markdown",
      "metadata": {
        "id": "QgpyBaZqoBVR"
      },
      "source": [
        "From the above time series figure of precipitation we can generally conclude that there has been a slight increasing trend in rainfall for the past 73 years. Moreover, an extraordinarily high picks in precipitation were recorded between 2010 and 2023."
      ],
      "id": "QgpyBaZqoBVR"
    },
    {
      "cell_type": "code",
      "execution_count": null,
      "metadata": {
        "colab": {
          "base_uri": "https://localhost:8080/",
          "height": 718
        },
        "id": "Vsfa8LA1_8Nw",
        "outputId": "c94f32e9-671b-43e7-c82e-e1ab3e4ededf"
      },
      "outputs": [
        {
          "data": {
            "image/png": "[encoded data removed]",
            "text/plain": [
              "<Figure size 1000x800 with 1 Axes>"
            ]
          },
          "metadata": {},
          "output_type": "display_data"
        }
      ],
      "source": [
        "pdfs_year.plot.scatter(\n",
        "    x ='year(date)', y = 'avg(temperature)', xlabel = 'year',\n",
        "    ylabel = 'temperature (100 of degrees Celsius)',\n",
        "    title = \"Trend of average monthly temperature in Ethiopia since 1950\",\n",
        "    figsize = (10, 8)\n",
        "    )\n",
        "x = pdfs_year['year(date)']\n",
        "y = pdfs_year['avg(temperature)']\n",
        "#calculate equation for trendline\n",
        "z = np.polyfit(x, y, 1)\n",
        "p = np.poly1d(z)\n",
        "\n",
        "#add trendline to plot\n",
        "plt.plot(x, p(x))\n",
        "\n",
        "# Show the plot\n",
        "plt.show()"
      ],
      "id": "Vsfa8LA1_8Nw"
    },
    {
      "cell_type": "markdown",
      "metadata": {
        "id": "JwaNmCNRmiGv"
      },
      "source": [
        "From the abouve scatter plot and the fitted trendline, we can imagine that Ethiopia has experienced a significant increase in temperature. The average temperature increased from 18.8 in 1950 to 22.8 degrees Celsius in 2023. That means, every year the average temperature increases by 0.04 degrees Celsius. That is a remarkable figure."
      ],
      "id": "JwaNmCNRmiGv"
    },
    {
      "cell_type": "markdown",
      "metadata": {
        "id": "ba1215d5-032c-429c-81fe-8872323d1789"
      },
      "source": [
        "### 7.3) Make some plots and investigate the results"
      ],
      "id": "ba1215d5-032c-429c-81fe-8872323d1789"
    },
    {
      "cell_type": "markdown",
      "metadata": {
        "id": "tJzhMfwKqJ3s"
      },
      "source": [
        "Make some more histograms to visulaize the data and draw some insgights."
      ],
      "id": "tJzhMfwKqJ3s"
    },
    {
      "cell_type": "code",
      "execution_count": null,
      "metadata": {
        "colab": {
          "base_uri": "https://localhost:8080/",
          "height": 716
        },
        "id": "HSlNXQt38Wb4",
        "outputId": "6776517f-046c-4e26-88d5-d7dbff961c33"
      },
      "outputs": [
        {
          "data": {
            "text/plain": [
              "array([[<Axes: title={'center': 'avg(precipitation)'}>]], dtype=object)"
            ]
          },
          "execution_count": 213,
          "metadata": {},
          "output_type": "execute_result"
        },
        {
          "data": {
            "image/png": "[encoded data removed]",
            "text/plain": [
              "<Figure size 1000x800 with 1 Axes>"
            ]
          },
          "metadata": {},
          "output_type": "display_data"
        }
      ],
      "source": [
        "pdfs_year.hist('avg(precipitation)', bins = 40, figsize = (10, 8))"
      ],
      "id": "HSlNXQt38Wb4"
    },
    {
      "cell_type": "markdown",
      "metadata": {
        "id": "AxURgSRKqUKA"
      },
      "source": [
        "From the above histograph we can undestand that most of the time the rainfall amount has ben 10mm or less (Not that 1000 is the most frequesnt value, and precipitation is meansure in 100 of millimeters)"
      ],
      "id": "AxURgSRKqUKA"
    },
    {
      "cell_type": "code",
      "execution_count": null,
      "metadata": {
        "colab": {
          "base_uri": "https://localhost:8080/",
          "height": 716
        },
        "id": "gUAtblNm8x0H",
        "outputId": "9c216297-9f65-4742-f133-ed495da8918f"
      },
      "outputs": [
        {
          "data": {
            "text/plain": [
              "array([[<Axes: title={'center': 'avg(temperature)'}>]], dtype=object)"
            ]
          },
          "execution_count": 216,
          "metadata": {},
          "output_type": "execute_result"
        },
        {
          "data": {
            "image/png": "[encoded data removed]",
            "text/plain": [
              "<Figure size 1000x800 with 1 Axes>"
            ]
          },
          "metadata": {},
          "output_type": "display_data"
        }
      ],
      "source": [
        "pdfs_year.hist('avg(temperature)', bins = 40, figsize = (10, 8))"
      ],
      "id": "gUAtblNm8x0H"
    },
    {
      "cell_type": "markdown",
      "metadata": {
        "id": "5TQIYzICrH3C"
      },
      "source": [
        "The above histogram tells us that the mode of average temperature of Ethiopia for the past 73 years is nearly 21.5 degrees Celsius."
      ],
      "id": "5TQIYzICrH3C"
    },
    {
      "cell_type": "markdown",
      "metadata": {
        "id": "wHhiRT7WupwK"
      },
      "source": [
        "### 7.4) Make some bar plots to undestand, visualize and infer data for each station"
      ],
      "id": "wHhiRT7WupwK"
    },
    {
      "cell_type": "code",
      "execution_count": null,
      "metadata": {
        "colab": {
          "base_uri": "https://localhost:8080/",
          "height": 811
        },
        "id": "a2f75064-8f02-41ff-b9c7-ead207ab6930",
        "outputId": "6986ade2-3cf1-4f67-cca1-eb8b1b04a578"
      },
      "outputs": [
        {
          "data": {
            "image/png": "[encoded data removed]",
            "text/plain": [
              "<Figure size 1000x800 with 1 Axes>"
            ]
          },
          "metadata": {},
          "output_type": "display_data"
        }
      ],
      "source": [
        "ax = pdfs_station.plot.bar(\n",
        "    x = 'station', y = 'avg(precipitation)', figsize = (10, 8),\n",
        "    title = \"Average monthly precipitation from 73 years data of 14 Ethiopian climate data recording stations\"\n",
        "                           )"
      ],
      "id": "a2f75064-8f02-41ff-b9c7-ead207ab6930"
    },
    {
      "cell_type": "markdown",
      "metadata": {
        "id": "fGrgDLQuxtOr"
      },
      "source": [
        "From the above bar chart we can understand that the average monthly preci;itation for Gore town is the maximum, forllowed by Jimma. Gore is a town located in the westmost part of Ethiopia, near Gambela City. And Jimma is also a major city in the mid-western part of Ethiopia. We have to notice that those town are located on at a close visinity of the most dense forest area of the nation. It is also important to note that major cities like Dire Dawa and Mekele are among the driest regions. Gode is the driest town, followed by Metehara (a located along Awash river in Afar Region of the Rift Valley)."
      ],
      "id": "fGrgDLQuxtOr"
    },
    {
      "cell_type": "code",
      "execution_count": null,
      "metadata": {
        "colab": {
          "base_uri": "https://localhost:8080/",
          "height": 811
        },
        "id": "4fe82e38-5fa9-4f3d-a4c6-db2730f77206",
        "outputId": "93af2867-736d-4702-a33a-3e80b63665ef"
      },
      "outputs": [
        {
          "data": {
            "image/png": "[encoded data removed]",
            "text/plain": [
              "<Figure size 1000x800 with 1 Axes>"
            ]
          },
          "metadata": {},
          "output_type": "display_data"
        }
      ],
      "source": [
        "ax = pdfs_station.plot.bar(\n",
        "    x = 'station', y = 'avg(temperature)', figsize = (10, 8), color = 'brown',\n",
        "    title = \"Average monthly temperature from 73 years data of 14 Ethiopian climate data recording stations\"\n",
        "                           )"
      ],
      "id": "4fe82e38-5fa9-4f3d-a4c6-db2730f77206"
    },
    {
      "cell_type": "markdown",
      "metadata": {
        "id": "Xj4m86jEziVw"
      },
      "source": [
        "From the previous bar chart, we noticed that town of Gode in Southern part of Somali region is the most rain-scace town. Not from this temperature graph, it is not a surprise that Gode is the hottest town. Goba, in Bale Zone of Oromia Region is the colderst town."
      ],
      "id": "Xj4m86jEziVw"
    },
    {
      "cell_type": "code",
      "execution_count": null,
      "metadata": {
        "colab": {
          "base_uri": "https://localhost:8080/",
          "height": 811
        },
        "id": "-6WqLh2_0mAb",
        "outputId": "d003f05f-8fcf-4819-fa79-9089f9d61adc"
      },
      "outputs": [
        {
          "data": {
            "image/png": "[encoded data removed]",
            "text/plain": [
              "<Figure size 1000x800 with 1 Axes>"
            ]
          },
          "metadata": {},
          "output_type": "display_data"
        }
      ],
      "source": [
        "ax = pdfs_station.plot.bar(\n",
        "    x = 'station', y = 'avg(elevation)', figsize = (10, 8), color = 'black',\n",
        "    title = \"Average elevation of 14 Ethiopian climate data recording stations\"\n",
        "                           )"
      ],
      "id": "-6WqLh2_0mAb"
    },
    {
      "cell_type": "markdown",
      "metadata": {
        "id": "YA0ke5PA1oL1"
      },
      "source": [
        "From the above graph, we can undestand that Goba it located at the highest elevation among all stations, followed by Robe and Debremarkos. That is why Goba's temperature is the lowest (see the previous bar chart)"
      ],
      "id": "YA0ke5PA1oL1"
    },
    {
      "cell_type": "markdown",
      "metadata": {
        "id": "c9fb2ab9-f3cc-43f5-aef4-f5bb50fdab36"
      },
      "source": [
        "## 8) Machine learning"
      ],
      "id": "c9fb2ab9-f3cc-43f5-aef4-f5bb50fdab36"
    },
    {
      "cell_type": "markdown",
      "metadata": {
        "id": "qhu9p94MRYfz"
      },
      "source": [
        "We will use a simple machine learning algorithm: Linear Regression"
      ],
      "id": "qhu9p94MRYfz"
    },
    {
      "cell_type": "markdown",
      "metadata": {
        "id": "79wSXutOR7Y_"
      },
      "source": [
        "### 8.1) Import some vital libraries"
      ],
      "id": "79wSXutOR7Y_"
    },
    {
      "cell_type": "code",
      "execution_count": null,
      "metadata": {
        "id": "sqxYvkyiRjAM"
      },
      "outputs": [],
      "source": [
        "import numpy as np\n",
        "from sklearn.model_selection import train_test_split\n",
        "from sklearn.linear_model import LinearRegression\n",
        "from sklearn.metrics import mean_squared_error"
      ],
      "id": "sqxYvkyiRjAM"
    },
    {
      "cell_type": "code",
      "execution_count": null,
      "metadata": {
        "id": "I8t2o2oqZlSt"
      },
      "outputs": [],
      "source": [
        "from pandas.plotting import scatter_matrix\n",
        "numeric_features = [t[0] for t in station_6.dtypes if t[1] == 'int' or t[1] == 'double']\n",
        "sampled_data = station_6.select(numeric_features).sample(False, 0.8).toPandas()\n",
        "axs = scatter_matrix(sampled_data, figsize=(10, 10))\n",
        "n = len(sampled_data.columns)\n",
        "for i in range(n):\n",
        "    v = axs[i, 0]\n",
        "    v.yaxis.label.set_rotation(0)\n",
        "    v.yaxis.label.set_ha('right')\n",
        "    v.set_yticks(())\n",
        "    h = axs[n-1, i]\n",
        "    h.xaxis.label.set_rotation(90)\n",
        "    h.set_xticks(())"
      ],
      "id": "I8t2o2oqZlSt"
    },
    {
      "cell_type": "markdown",
      "metadata": {
        "id": "_T0bFwO8aEad"
      },
      "source": [
        "### 8.2) Prepare data for Machine Learning. And we need two columns only — features and label(“Priciptation”):"
      ],
      "id": "_T0bFwO8aEad"
    },
    {
      "cell_type": "code",
      "execution_count": null,
      "metadata": {
        "id": "3yArqtaGZlQX"
      },
      "outputs": [],
      "source": [
        "from pyspark.ml.feature import VectorAssembler\n",
        "vectorAssembler = VectorAssembler(\n",
        "    inputCols = [\"lon\",\"lat\", \"avg(elevation)\", \"avg(temperature)\",\n",
        "                 \"avg(elevation)\"], outputCol = 'features')\n",
        "data_ml = vectorAssembler.transform(station_6)\n",
        "data_ml = data_ml.select(['features', \"avg(precipitation)\"])\n",
        "data_ml.show(3)"
      ],
      "id": "3yArqtaGZlQX"
    },
    {
      "cell_type": "markdown",
      "metadata": {
        "id": "lq92DYozahVI"
      },
      "source": [
        "Split the data into training and validation"
      ],
      "id": "lq92DYozahVI"
    },
    {
      "cell_type": "code",
      "execution_count": null,
      "metadata": {
        "id": "rcBIwMJaZlNh"
      },
      "outputs": [],
      "source": [
        "splits = data_ml.randomSplit([0.7, 0.3])\n",
        "train_data = splits[0]\n",
        "test_data = splits[1]"
      ],
      "id": "rcBIwMJaZlNh"
    },
    {
      "cell_type": "code",
      "execution_count": null,
      "metadata": {
        "id": "XdwU99xGZlKn"
      },
      "outputs": [],
      "source": [
        "#print(splits.show(3))\n",
        "print(train_data.show(3))\n",
        "print(test_data.show(3))"
      ],
      "id": "XdwU99xGZlKn"
    },
    {
      "cell_type": "markdown",
      "metadata": {
        "id": "oKNnUC68asSF"
      },
      "source": [
        "### 8.3) Model building"
      ],
      "id": "oKNnUC68asSF"
    },
    {
      "cell_type": "markdown",
      "metadata": {
        "id": "qHip-bWdawUR"
      },
      "source": [
        "We are using linear regression"
      ],
      "id": "qHip-bWdawUR"
    },
    {
      "cell_type": "code",
      "execution_count": null,
      "metadata": {
        "id": "8TuooA9NZlHC"
      },
      "outputs": [],
      "source": [
        "from pyspark.ml.regression import LinearRegression\n",
        "lr = LinearRegression(featuresCol = 'features', labelCol='PRCP',\n",
        "                      maxIter=10, regParam=0.3, elasticNetParam=0.8)\n",
        "lr_model = lr.fit(train_data)"
      ],
      "id": "8TuooA9NZlHC"
    },
    {
      "cell_type": "code",
      "execution_count": null,
      "metadata": {
        "id": "AuDAiglLZk9H"
      },
      "outputs": [],
      "source": [
        "lr_model.summary"
      ],
      "id": "AuDAiglLZk9H"
    },
    {
      "cell_type": "code",
      "execution_count": null,
      "metadata": {
        "id": "MyBbx1YFa55m"
      },
      "outputs": [],
      "source": [
        "print(\"Coefficients: \" + str(lr_model.coefficients))\n",
        "print(\"Intercept: \" + str(lr_model.intercept))"
      ],
      "id": "MyBbx1YFa55m"
    },
    {
      "cell_type": "markdown",
      "metadata": {
        "id": "EJLPy0fDbBer"
      },
      "source": [
        "### 8.4) Summary of Model over train model"
      ],
      "id": "EJLPy0fDbBer"
    },
    {
      "cell_type": "code",
      "execution_count": null,
      "metadata": {
        "id": "bKNnMkjra5wm"
      },
      "outputs": [],
      "source": [
        "trainingSummary = lr_model.summary\n",
        "print(\"RMSE: %f\" % trainingSummary.rootMeanSquaredError)\n",
        "print(\"r2: %f\" % trainingSummary.r2)"
      ],
      "id": "bKNnMkjra5wm"
    },
    {
      "cell_type": "code",
      "execution_count": null,
      "metadata": {
        "id": "7aw3b_5Va5tW"
      },
      "outputs": [],
      "source": [
        "train_data.describe().show()"
      ],
      "id": "7aw3b_5Va5tW"
    },
    {
      "cell_type": "markdown",
      "metadata": {
        "id": "LFEKIgO-bM6D"
      },
      "source": [
        "### 8.5) Prediction"
      ],
      "id": "LFEKIgO-bM6D"
    },
    {
      "cell_type": "code",
      "execution_count": null,
      "metadata": {
        "id": "lnlv8Omwa5qm"
      },
      "outputs": [],
      "source": [
        "lr_predictions = lr_model.transform(test_data)\n",
        "lr_predictions.select(\"prediction\",\"PRCP\",\"features\").show(20)"
      ],
      "id": "lnlv8Omwa5qm"
    },
    {
      "cell_type": "markdown",
      "metadata": {
        "id": "gHq3dcuAbYN9"
      },
      "source": [
        "### 8.6) Model Evaluation"
      ],
      "id": "gHq3dcuAbYN9"
    },
    {
      "cell_type": "code",
      "execution_count": null,
      "metadata": {
        "id": "-CZuofb6a5n4"
      },
      "outputs": [],
      "source": [
        "from pyspark.ml.evaluation import RegressionEvaluator\n",
        "lr_evaluator = RegressionEvaluator(predictionCol=\"prediction\", \\\n",
        "                 labelCol=\"PRCP\",metricName=\"r2\")\n",
        "print(\"R Squared (R2) on test data = %g\" % lr_evaluator.evaluate(lr_predictions))"
      ],
      "id": "-CZuofb6a5n4"
    },
    {
      "cell_type": "code",
      "execution_count": null,
      "metadata": {
        "id": "cTeVS-9Ta5k7"
      },
      "outputs": [],
      "source": [
        "test_result = lr_model.evaluate(test_data)\n",
        "print(\"Root Mean Squared Error (RMSE) on test data = %g\" % test_result.rootMeanSquaredError)"
      ],
      "id": "cTeVS-9Ta5k7"
    },
    {
      "cell_type": "code",
      "execution_count": null,
      "metadata": {
        "id": "y0WKrpFva5bS"
      },
      "outputs": [],
      "source": [
        "print(\"numIterations: %d\" % trainingSummary.totalIterations)\n",
        "print(\"objectiveHistory: %s\" % str(trainingSummary.objectiveHistory))\n",
        "trainingSummary.residuals.show()"
      ],
      "id": "y0WKrpFva5bS"
    },
    {
      "cell_type": "code",
      "execution_count": null,
      "metadata": {
        "id": "qDKxUN2obon2"
      },
      "outputs": [],
      "source": [
        "predictions = lr_model.transform(test_data)\n",
        "predictions.select(\"prediction\",\"PRCP\",\"features\").show()"
      ],
      "id": "qDKxUN2obon2"
    },
    {
      "cell_type": "markdown",
      "metadata": {
        "id": "3e1b07ad-3aed-4fde-aaf2-e5f3bfea76ea"
      },
      "source": [
        "## 9) Geospatial analysis and visualization"
      ],
      "id": "3e1b07ad-3aed-4fde-aaf2-e5f3bfea76ea"
    },
    {
      "cell_type": "markdown",
      "metadata": {
        "id": "9c7480f4-df18-4a4a-912b-fb1cd08d36f4"
      },
      "source": [
        "### 9.2) Import the necessary packages for geo-visualization"
      ],
      "id": "9c7480f4-df18-4a4a-912b-fb1cd08d36f4"
    },
    {
      "cell_type": "code",
      "execution_count": null,
      "metadata": {
        "id": "98fdcac9-dd68-4f9e-8c3f-6331ff92e038"
      },
      "outputs": [],
      "source": [
        "import geopandas as gpd\n",
        "from shapely.geometry import Point, Polygon\n",
        "%matplotlib inline"
      ],
      "id": "98fdcac9-dd68-4f9e-8c3f-6331ff92e038"
    },
    {
      "cell_type": "markdown",
      "metadata": {
        "id": "fc000155-165a-4bbb-9b2a-81adf44c9335"
      },
      "source": [
        "#### 9.2.1) Prepare a basemap for Ethiopia"
      ],
      "id": "fc000155-165a-4bbb-9b2a-81adf44c9335"
    },
    {
      "cell_type": "markdown",
      "metadata": {
        "id": "ba42d153-4293-4302-aa11-4ebd9124b771"
      },
      "source": [
        "A separately prepared shapefile can be imported for Ethiopia from local drive and can be plotted as follows. Then the overlay comes later."
      ],
      "id": "ba42d153-4293-4302-aa11-4ebd9124b771"
    },
    {
      "cell_type": "code",
      "execution_count": null,
      "metadata": {
        "id": "2c429eed-fccb-42e7-a36e-27e2cc5873a7"
      },
      "outputs": [],
      "source": [
        "ethiopia = '/content/drive/MyDrive/IGSSA_AAU/Year_1/Big_Data/B1_Ethiopian_States.zip'"
      ],
      "id": "2c429eed-fccb-42e7-a36e-27e2cc5873a7"
    },
    {
      "cell_type": "code",
      "execution_count": null,
      "metadata": {
        "id": "a8b8e09d-c7de-4411-a09d-7dc6f74da133"
      },
      "outputs": [],
      "source": [
        "et_gpd1 = gpd.read_file(ethiopia)"
      ],
      "id": "a8b8e09d-c7de-4411-a09d-7dc6f74da133"
    },
    {
      "cell_type": "markdown",
      "metadata": {
        "id": "tyuGBdpNkG8E"
      },
      "source": [
        "Have a look at the contents of the attibute table, note the names of the regions, for example"
      ],
      "id": "tyuGBdpNkG8E"
    },
    {
      "cell_type": "code",
      "execution_count": null,
      "metadata": {
        "colab": {
          "base_uri": "https://localhost:8080/",
          "height": 206
        },
        "id": "4a090f9e-01fc-4d22-a2f2-b8e4f7ad8b99",
        "outputId": "538047af-e04d-4ad5-87eb-6431c77a2289"
      },
      "outputs": [
        {
          "data": {
            "text/html": [
              "\n",
              "  <div id=\"df-b34d13d5-c6e3-4728-8e45-15537f85bdad\" class=\"colab-df-container\">\n",
              "    <div>\n",
              "<style scoped>\n",
              "    .dataframe tbody tr th:only-of-type {\n",
              "        vertical-align: middle;\n",
              "    }\n",
              "\n",
              "    .dataframe tbody tr th {\n",
              "        vertical-align: top;\n",
              "    }\n",
              "\n",
              "    .dataframe thead th {\n",
              "        text-align: right;\n",
              "    }\n",
              "</style>\n",
              "<table border=\"1\" class=\"dataframe\">\n",
              "  <thead>\n",
              "    <tr style=\"text-align: right;\">\n",
              "      <th></th>\n",
              "      <th>Region_Nam</th>\n",
              "      <th>Shape_Leng</th>\n",
              "      <th>Shape_Area</th>\n",
              "      <th>geometry</th>\n",
              "    </tr>\n",
              "  </thead>\n",
              "  <tbody>\n",
              "    <tr>\n",
              "      <th>0</th>\n",
              "      <td>Harari</td>\n",
              "      <td>0.988836</td>\n",
              "      <td>0.027420</td>\n",
              "      <td>POLYGON ((42.11103 9.39906, 42.11204 9.39897, ...</td>\n",
              "    </tr>\n",
              "    <tr>\n",
              "      <th>1</th>\n",
              "      <td>Dire Dawa</td>\n",
              "      <td>2.435849</td>\n",
              "      <td>0.128127</td>\n",
              "      <td>POLYGON ((42.37826 9.84194, 42.37868 9.84055, ...</td>\n",
              "    </tr>\n",
              "    <tr>\n",
              "      <th>2</th>\n",
              "      <td>Tigray</td>\n",
              "      <td>16.274712</td>\n",
              "      <td>4.324521</td>\n",
              "      <td>POLYGON ((39.25754 14.46433, 39.26467 14.41144...</td>\n",
              "    </tr>\n",
              "    <tr>\n",
              "      <th>3</th>\n",
              "      <td>Amhara</td>\n",
              "      <td>32.261158</td>\n",
              "      <td>12.839396</td>\n",
              "      <td>POLYGON ((36.10807 13.88507, 36.11737 13.88509...</td>\n",
              "    </tr>\n",
              "    <tr>\n",
              "      <th>4</th>\n",
              "      <td>Oromiya</td>\n",
              "      <td>76.059040</td>\n",
              "      <td>24.406076</td>\n",
              "      <td>MULTIPOLYGON (((36.95206 5.14409, 36.95159 5.1...</td>\n",
              "    </tr>\n",
              "  </tbody>\n",
              "</table>\n",
              "</div>\n",
              "    <div class=\"colab-df-buttons\">\n",
              "\n",
              "  <div class=\"colab-df-container\">\n",
              "    <button class=\"colab-df-convert\" onclick=\"convertToInteractive('df-b34d13d5-c6e3-4728-8e45-15537f85bdad')\"\n",
              "            title=\"Convert this dataframe to an interactive table.\"\n",
              "            style=\"display:none;\">\n",
              "\n",
              "  <svg xmlns=\"http://www.w3.org/2000/svg\" height=\"24px\" viewBox=\"0 -960 960 960\">\n",
              "    <path d=\"M120-120v-720h720v720H120Zm60-500h600v-160H180v160Zm220 220h160v-160H400v160Zm0 220h160v-160H400v160ZM180-400h160v-160H180v160Zm440 0h160v-160H620v160ZM180-180h160v-160H180v160Zm440 0h160v-160H620v160Z\"/>\n",
              "  </svg>\n",
              "    </button>\n",
              "\n",
              "  <style>\n",
              "    .colab-df-container {\n",
              "      display:flex;\n",
              "      gap: 12px;\n",
              "    }\n",
              "\n",
              "    .colab-df-convert {\n",
              "      background-color: #E8F0FE;\n",
              "      border: none;\n",
              "      border-radius: 50%;\n",
              "      cursor: pointer;\n",
              "      display: none;\n",
              "      fill: #1967D2;\n",
              "      height: 32px;\n",
              "      padding: 0 0 0 0;\n",
              "      width: 32px;\n",
              "    }\n",
              "\n",
              "    .colab-df-convert:hover {\n",
              "      background-color: #E2EBFA;\n",
              "      box-shadow: 0px 1px 2px rgba(60, 64, 67, 0.3), 0px 1px 3px 1px rgba(60, 64, 67, 0.15);\n",
              "      fill: #174EA6;\n",
              "    }\n",
              "\n",
              "    .colab-df-buttons div {\n",
              "      margin-bottom: 4px;\n",
              "    }\n",
              "\n",
              "    [theme=dark] .colab-df-convert {\n",
              "      background-color: #3B4455;\n",
              "      fill: #D2E3FC;\n",
              "    }\n",
              "\n",
              "    [theme=dark] .colab-df-convert:hover {\n",
              "      background-color: #434B5C;\n",
              "      box-shadow: 0px 1px 3px 1px rgba(0, 0, 0, 0.15);\n",
              "      filter: drop-shadow(0px 1px 2px rgba(0, 0, 0, 0.3));\n",
              "      fill: #FFFFFF;\n",
              "    }\n",
              "  </style>\n",
              "\n",
              "    <script>\n",
              "      const buttonEl =\n",
              "        document.querySelector('#df-b34d13d5-c6e3-4728-8e45-15537f85bdad button.colab-df-convert');\n",
              "      buttonEl.style.display =\n",
              "        google.colab.kernel.accessAllowed ? 'block' : 'none';\n",
              "\n",
              "      async function convertToInteractive(key) {\n",
              "        const element = document.querySelector('#df-b34d13d5-c6e3-4728-8e45-15537f85bdad');\n",
              "        const dataTable =\n",
              "          await google.colab.kernel.invokeFunction('convertToInteractive',\n",
              "                                                    [key], {});\n",
              "        if (!dataTable) return;\n",
              "\n",
              "        const docLinkHtml = 'Like what you see? Visit the ' +\n",
              "          '<a target=\"_blank\" href=https://colab.research.google.com/notebooks/data_table.ipynb>data table notebook</a>'\n",
              "          + ' to learn more about interactive tables.';\n",
              "        element.innerHTML = '';\n",
              "        dataTable['output_type'] = 'display_data';\n",
              "        await google.colab.output.renderOutput(dataTable, element);\n",
              "        const docLink = document.createElement('div');\n",
              "        docLink.innerHTML = docLinkHtml;\n",
              "        element.appendChild(docLink);\n",
              "      }\n",
              "    </script>\n",
              "  </div>\n",
              "\n",
              "\n",
              "<div id=\"df-14bfc642-965d-45d7-a506-ea17c10052ad\">\n",
              "  <button class=\"colab-df-quickchart\" onclick=\"quickchart('df-14bfc642-965d-45d7-a506-ea17c10052ad')\"\n",
              "            title=\"Suggest charts\"\n",
              "            style=\"display:none;\">\n",
              "\n",
              "<svg xmlns=\"http://www.w3.org/2000/svg\" height=\"24px\"viewBox=\"0 0 24 24\"\n",
              "     width=\"24px\">\n",
              "    <g>\n",
              "        <path d=\"M19 3H5c-1.1 0-2 .9-2 2v14c0 1.1.9 2 2 2h14c1.1 0 2-.9 2-2V5c0-1.1-.9-2-2-2zM9 17H7v-7h2v7zm4 0h-2V7h2v10zm4 0h-2v-4h2v4z\"/>\n",
              "    </g>\n",
              "</svg>\n",
              "  </button>\n",
              "\n",
              "<style>\n",
              "  .colab-df-quickchart {\n",
              "      --bg-color: #E8F0FE;\n",
              "      --fill-color: #1967D2;\n",
              "      --hover-bg-color: #E2EBFA;\n",
              "      --hover-fill-color: #174EA6;\n",
              "      --disabled-fill-color: #AAA;\n",
              "      --disabled-bg-color: #DDD;\n",
              "  }\n",
              "\n",
              "  [theme=dark] .colab-df-quickchart {\n",
              "      --bg-color: #3B4455;\n",
              "      --fill-color: #D2E3FC;\n",
              "      --hover-bg-color: #434B5C;\n",
              "      --hover-fill-color: #FFFFFF;\n",
              "      --disabled-bg-color: #3B4455;\n",
              "      --disabled-fill-color: #666;\n",
              "  }\n",
              "\n",
              "  .colab-df-quickchart {\n",
              "    background-color: var(--bg-color);\n",
              "    border: none;\n",
              "    border-radius: 50%;\n",
              "    cursor: pointer;\n",
              "    display: none;\n",
              "    fill: var(--fill-color);\n",
              "    height: 32px;\n",
              "    padding: 0;\n",
              "    width: 32px;\n",
              "  }\n",
              "\n",
              "  .colab-df-quickchart:hover {\n",
              "    background-color: var(--hover-bg-color);\n",
              "    box-shadow: 0 1px 2px rgba(60, 64, 67, 0.3), 0 1px 3px 1px rgba(60, 64, 67, 0.15);\n",
              "    fill: var(--button-hover-fill-color);\n",
              "  }\n",
              "\n",
              "  .colab-df-quickchart-complete:disabled,\n",
              "  .colab-df-quickchart-complete:disabled:hover {\n",
              "    background-color: var(--disabled-bg-color);\n",
              "    fill: var(--disabled-fill-color);\n",
              "    box-shadow: none;\n",
              "  }\n",
              "\n",
              "  .colab-df-spinner {\n",
              "    border: 2px solid var(--fill-color);\n",
              "    border-color: transparent;\n",
              "    border-bottom-color: var(--fill-color);\n",
              "    animation:\n",
              "      spin 1s steps(1) infinite;\n",
              "  }\n",
              "\n",
              "  @keyframes spin {\n",
              "    0% {\n",
              "      border-color: transparent;\n",
              "      border-bottom-color: var(--fill-color);\n",
              "      border-left-color: var(--fill-color);\n",
              "    }\n",
              "    20% {\n",
              "      border-color: transparent;\n",
              "      border-left-color: var(--fill-color);\n",
              "      border-top-color: var(--fill-color);\n",
              "    }\n",
              "    30% {\n",
              "      border-color: transparent;\n",
              "      border-left-color: var(--fill-color);\n",
              "      border-top-color: var(--fill-color);\n",
              "      border-right-color: var(--fill-color);\n",
              "    }\n",
              "    40% {\n",
              "      border-color: transparent;\n",
              "      border-right-color: var(--fill-color);\n",
              "      border-top-color: var(--fill-color);\n",
              "    }\n",
              "    60% {\n",
              "      border-color: transparent;\n",
              "      border-right-color: var(--fill-color);\n",
              "    }\n",
              "    80% {\n",
              "      border-color: transparent;\n",
              "      border-right-color: var(--fill-color);\n",
              "      border-bottom-color: var(--fill-color);\n",
              "    }\n",
              "    90% {\n",
              "      border-color: transparent;\n",
              "      border-bottom-color: var(--fill-color);\n",
              "    }\n",
              "  }\n",
              "</style>\n",
              "\n",
              "  <script>\n",
              "    async function quickchart(key) {\n",
              "      const quickchartButtonEl =\n",
              "        document.querySelector('#' + key + ' button');\n",
              "      quickchartButtonEl.disabled = true;  // To prevent multiple clicks.\n",
              "      quickchartButtonEl.classList.add('colab-df-spinner');\n",
              "      try {\n",
              "        const charts = await google.colab.kernel.invokeFunction(\n",
              "            'suggestCharts', [key], {});\n",
              "      } catch (error) {\n",
              "        console.error('Error during call to suggestCharts:', error);\n",
              "      }\n",
              "      quickchartButtonEl.classList.remove('colab-df-spinner');\n",
              "      quickchartButtonEl.classList.add('colab-df-quickchart-complete');\n",
              "    }\n",
              "    (() => {\n",
              "      let quickchartButtonEl =\n",
              "        document.querySelector('#df-14bfc642-965d-45d7-a506-ea17c10052ad button');\n",
              "      quickchartButtonEl.style.display =\n",
              "        google.colab.kernel.accessAllowed ? 'block' : 'none';\n",
              "    })();\n",
              "  </script>\n",
              "</div>\n",
              "    </div>\n",
              "  </div>\n"
            ],
            "text/plain": [
              "  Region_Nam  Shape_Leng  Shape_Area  \\\n",
              "0     Harari    0.988836    0.027420   \n",
              "1  Dire Dawa    2.435849    0.128127   \n",
              "2     Tigray   16.274712    4.324521   \n",
              "3     Amhara   32.261158   12.839396   \n",
              "4    Oromiya   76.059040   24.406076   \n",
              "\n",
              "                                            geometry  \n",
              "0  POLYGON ((42.11103 9.39906, 42.11204 9.39897, ...  \n",
              "1  POLYGON ((42.37826 9.84194, 42.37868 9.84055, ...  \n",
              "2  POLYGON ((39.25754 14.46433, 39.26467 14.41144...  \n",
              "3  POLYGON ((36.10807 13.88507, 36.11737 13.88509...  \n",
              "4  MULTIPOLYGON (((36.95206 5.14409, 36.95159 5.1...  "
            ]
          },
          "execution_count": 181,
          "metadata": {},
          "output_type": "execute_result"
        }
      ],
      "source": [
        "et_gpd1.head()"
      ],
      "id": "4a090f9e-01fc-4d22-a2f2-b8e4f7ad8b99"
    },
    {
      "cell_type": "markdown",
      "metadata": {
        "id": "18a9f752-036c-421d-ae24-70cd10602b57"
      },
      "source": [
        "Check if the geopandas file has a coordinate system. If not projected, then project it."
      ],
      "id": "18a9f752-036c-421d-ae24-70cd10602b57"
    },
    {
      "cell_type": "code",
      "execution_count": null,
      "metadata": {
        "id": "6cf9eaf5-19f2-444c-b293-a481029b2cbd"
      },
      "outputs": [],
      "source": [
        "if et_gpd1.crs != \"EPSG:4326\":\n",
        "    et_gpd1.crs = {'init': 'EPSG:4326'}\n",
        "else:\n",
        "    pass"
      ],
      "id": "6cf9eaf5-19f2-444c-b293-a481029b2cbd"
    },
    {
      "cell_type": "markdown",
      "metadata": {
        "id": "8ba4811d-f15a-4dfe-bc45-3667341c8a1f"
      },
      "source": [
        "Plot the regions, to have the first impression on the country's map and its regions."
      ],
      "id": "8ba4811d-f15a-4dfe-bc45-3667341c8a1f"
    },
    {
      "cell_type": "code",
      "execution_count": null,
      "metadata": {
        "colab": {
          "base_uri": "https://localhost:8080/",
          "height": 667
        },
        "id": "a68011e1-74a8-4be9-a5e5-291d3f1b5194",
        "outputId": "0395deb4-e76f-472f-a28a-e4ead3d241ae"
      },
      "outputs": [
        {
          "data": {
            "image/png": "[encoded data removed]",
            "text/plain": [
              "<Figure size 1000x800 with 1 Axes>"
            ]
          },
          "metadata": {},
          "output_type": "display_data"
        }
      ],
      "source": [
        "et_gpd1.plot(column = \"Region_Nam\", categorical = False, legend = True, figsize=(10,8))\n",
        "plt.show()"
      ],
      "id": "a68011e1-74a8-4be9-a5e5-291d3f1b5194"
    },
    {
      "cell_type": "markdown",
      "metadata": {
        "id": "FFPZ58TijAkp"
      },
      "source": [
        "We do not need the colors of the regions for out analysis. Therefore we can the coloring as follows."
      ],
      "id": "FFPZ58TijAkp"
    },
    {
      "cell_type": "code",
      "execution_count": null,
      "metadata": {
        "colab": {
          "base_uri": "https://localhost:8080/",
          "height": 684
        },
        "id": "1863ef02-eddb-48fc-8ef2-1f672344754f",
        "outputId": "eac96a79-89c8-4bca-8dac-7898e0130010"
      },
      "outputs": [
        {
          "data": {
            "text/plain": [
              "<Axes: >"
            ]
          },
          "execution_count": 203,
          "metadata": {},
          "output_type": "execute_result"
        },
        {
          "data": {
            "image/png": "[encoded data removed]",
            "text/plain": [
              "<Figure size 1000x800 with 1 Axes>"
            ]
          },
          "metadata": {},
          "output_type": "display_data"
        }
      ],
      "source": [
        "fig, ax = plt.subplots(figsize=(10,8))\n",
        "et_gpd1.plot(ax=ax, alpha=0.4, color='darkgrey')"
      ],
      "id": "1863ef02-eddb-48fc-8ef2-1f672344754f"
    },
    {
      "cell_type": "markdown",
      "metadata": {
        "id": "977bd05b-f9b9-425c-8e3b-3850dd7b10ea"
      },
      "source": [
        "#### 9.2.2) Prepare the precipitation and temperature datafarames for geopandas."
      ],
      "id": "977bd05b-f9b9-425c-8e3b-3850dd7b10ea"
    },
    {
      "cell_type": "markdown",
      "metadata": {
        "id": "2f27f1aa-f4a4-4d2a-b151-feb9e0a1e839"
      },
      "source": [
        "Now our basemap is ready. So let bring out data and overlay them into this basemap. To convert our dataframes into geopandas we need to contstuct the geometry from the longitude latitude columns."
      ],
      "id": "2f27f1aa-f4a4-4d2a-b151-feb9e0a1e839"
    },
    {
      "cell_type": "markdown",
      "metadata": {
        "id": "HjiiJdOuHyIE"
      },
      "source": [
        "Pandas to geopadas"
      ],
      "id": "HjiiJdOuHyIE"
    },
    {
      "cell_type": "code",
      "execution_count": null,
      "metadata": {
        "id": "D2vXDDYD9-0c"
      },
      "outputs": [],
      "source": [
        "geodf = gpd.GeoDataFrame(pdfs_station, geometry = gpd.points_from_xy(pdfs_station.lon, pdfs_station.lat), crs = \"EPSG:4326\")"
      ],
      "id": "D2vXDDYD9-0c"
    },
    {
      "cell_type": "code",
      "execution_count": null,
      "metadata": {
        "id": "AZL1767cJoBM"
      },
      "outputs": [],
      "source": [
        "geodf.head()"
      ],
      "id": "AZL1767cJoBM"
    },
    {
      "cell_type": "code",
      "execution_count": null,
      "metadata": {
        "colab": {
          "base_uri": "https://localhost:8080/",
          "height": 684
        },
        "id": "01e44d14-9134-465e-8091-d398110894fe",
        "outputId": "bec857f2-17dd-4df9-ad4e-e9cf7b1b960c"
      },
      "outputs": [
        {
          "data": {
            "text/plain": [
              "<matplotlib.legend.Legend at 0x7d6087ce4850>"
            ]
          },
          "execution_count": 241,
          "metadata": {},
          "output_type": "execute_result"
        },
        {
          "data": {
            "image/png": "[encoded data removed]",
            "text/plain": [
              "<Figure size 1000x800 with 1 Axes>"
            ]
          },
          "metadata": {},
          "output_type": "display_data"
        }
      ],
      "source": [
        "fig, ax = plt.subplots(figsize=(10,8))\n",
        "et_gpd1.plot(ax=ax, alpha=0.4, color='grey')\n",
        "geodf[geodf['avg(precipitation)'] >= 100].plot(\n",
        "    ax=ax, markersize = 'avg(precipitation)',\n",
        "    color='blue', marker='o', label='precipitation'\n",
        "    )\n",
        "plt.legend(prop={'size':15})"
      ],
      "id": "01e44d14-9134-465e-8091-d398110894fe"
    },
    {
      "cell_type": "code",
      "execution_count": null,
      "metadata": {
        "colab": {
          "base_uri": "https://localhost:8080/",
          "height": 684
        },
        "id": "Xp2-31aqLkLX",
        "outputId": "3af358cd-9adc-4b8e-beff-bf6e02ae8523"
      },
      "outputs": [
        {
          "data": {
            "text/plain": [
              "<matplotlib.legend.Legend at 0x7d6088402260>"
            ]
          },
          "execution_count": 250,
          "metadata": {},
          "output_type": "execute_result"
        },
        {
          "data": {
            "image/png": "[encoded data removed]",
            "text/plain": [
              "<Figure size 1000x800 with 1 Axes>"
            ]
          },
          "metadata": {},
          "output_type": "display_data"
        }
      ],
      "source": [
        "fig, ax = plt.subplots(figsize=(10,8))\n",
        "et_gpd1.plot(ax=ax, alpha=0.4, color='grey')\n",
        "geodf[geodf['avg(temperature)'] >= 100].plot(\n",
        "    ax=ax, markersize= ('avg(temperature)'), color='red',\n",
        "    marker ='^', label='temperature'\n",
        "    )\n",
        "plt.legend(prop={'size':15})"
      ],
      "id": "Xp2-31aqLkLX"
    },
    {
      "cell_type": "code",
      "execution_count": null,
      "metadata": {
        "colab": {
          "base_uri": "https://localhost:8080/",
          "height": 684
        },
        "id": "RW-VMD8zDzvF",
        "outputId": "5263c39f-11a3-4422-e4b1-66df5b7ef04b"
      },
      "outputs": [
        {
          "data": {
            "text/plain": [
              "<matplotlib.legend.Legend at 0x7d60884657e0>"
            ]
          },
          "execution_count": 249,
          "metadata": {},
          "output_type": "execute_result"
        },
        {
          "data": {
            "image/png": "[encoded data removed]",
            "text/plain": [
              "<Figure size 1000x800 with 1 Axes>"
            ]
          },
          "metadata": {},
          "output_type": "display_data"
        }
      ],
      "source": [
        "fig, ax = plt.subplots(figsize=(10,8))\n",
        "et_gpd1.plot(ax=ax, alpha=0.4, color='grey')\n",
        "\n",
        "# Plot for precipitation\n",
        "geodf[geodf['avg(precipitation)'] >= 100].plot(\n",
        "    ax=ax, markersize='avg(precipitation)', color='blue',\n",
        "    marker='o', label='precipitation')\n",
        "\n",
        "# Plot for average temperature\n",
        "geodf[geodf['avg(temperature)'] >= 100].plot(\n",
        "    ax=ax, markersize='avg(temperature)', color='red',\n",
        "    marker='^', label='temperature')\n",
        "\n",
        "# Fixe the size of legend text\n",
        "plt.legend(prop={'size':15})"
      ],
      "id": "RW-VMD8zDzvF"
    },
    {
      "cell_type": "markdown",
      "metadata": {
        "id": "ES4GvpZn6nck"
      },
      "source": [
        "The size of the **blue circles** correspond to the amount of the precipitation, while the size of **red triangles** corresponds to the level of temperature."
      ],
      "id": "ES4GvpZn6nck"
    },
    {
      "cell_type": "code",
      "execution_count": null,
      "metadata": {
        "id": "7a8eee1b-538e-4459-9859-befe8632baab"
      },
      "outputs": [],
      "source": [
        "pip install nbconvert"
      ],
      "id": "7a8eee1b-538e-4459-9859-befe8632baab"
    },
    {
      "cell_type": "markdown",
      "metadata": {
        "id": "ZL6LFGHgdT1x"
      },
      "source": [
        "# End of the project"
      ],
      "id": "ZL6LFGHgdT1x"
    }
  ],
  "metadata": {
    "colab": {
      "provenance": []
    },
    "kernelspec": {
      "display_name": "Python 3 (ipykernel)",
      "language": "python",
      "name": "python3"
    },
    "language_info": {
      "codemirror_mode": {
        "name": "ipython",
        "version": 3
      },
      "file_extension": ".py",
      "mimetype": "text/x-python",
      "name": "python",
      "nbconvert_exporter": "python",
      "pygments_lexer": "ipython3",
      "version": "3.11.5"
    }
  },
  "nbformat": 4,
  "nbformat_minor": 5
}